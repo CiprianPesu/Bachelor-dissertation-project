{
 "cells": [
  {
   "cell_type": "code",
   "execution_count": 1,
   "id": "222e4d5f",
   "metadata": {},
   "outputs": [],
   "source": [
    "import pandas as pd\n",
    "import numpy as np\n",
    "import matplotlib.pyplot as plt\n",
    "from sklearn.model_selection import train_test_split\n",
    "from sklearn import metrics\n",
    "from tqdm import tqdm\n",
    "\n",
    "import torch\n",
    "import torch.nn.functional as F\n",
    "import torch.nn as nn\n",
    "\n",
    "from transformers import AutoTokenizer, DistilBertModel\n",
    "from transformers import AdamW\n"
   ]
  },
  {
   "cell_type": "code",
   "execution_count": 2,
   "id": "a4effb08",
   "metadata": {},
   "outputs": [
    {
     "name": "stdout",
     "output_type": "stream",
     "text": [
      "NVIDIA GeForce GTX 1050 Ti\n"
     ]
    }
   ],
   "source": [
    "device = torch.device(\"cuda\") if torch.cuda.is_available() else torch.device(\"cpu\")\n",
    "if torch.cuda.is_available():\n",
    "  for i in range(torch.cuda.device_count()):\n",
    "    print(torch.cuda.get_device_name(i))\n",
    "else:\n",
    "  print(\"You are running on CPU\")"
   ]
  },
  {
   "cell_type": "code",
   "execution_count": 3,
   "id": "ef0d75c7",
   "metadata": {},
   "outputs": [],
   "source": [
    "df = pd.read_csv(\"../Datasets/Cuvinte-Eliminate/train-punct-stop-1000.csv\")\n",
    "df=df.dropna()\n",
    "df=df.sample(n=100000)"
   ]
  },
  {
   "cell_type": "code",
   "execution_count": 4,
   "id": "f623596e",
   "metadata": {},
   "outputs": [
    {
     "data": {
      "text/html": [
       "<div>\n",
       "<style scoped>\n",
       "    .dataframe tbody tr th:only-of-type {\n",
       "        vertical-align: middle;\n",
       "    }\n",
       "\n",
       "    .dataframe tbody tr th {\n",
       "        vertical-align: top;\n",
       "    }\n",
       "\n",
       "    .dataframe thead th {\n",
       "        text-align: right;\n",
       "    }\n",
       "</style>\n",
       "<table border=\"1\" class=\"dataframe\">\n",
       "  <thead>\n",
       "    <tr style=\"text-align: right;\">\n",
       "      <th></th>\n",
       "      <th>sentiment</th>\n",
       "      <th>text</th>\n",
       "    </tr>\n",
       "  </thead>\n",
       "  <tbody>\n",
       "    <tr>\n",
       "      <th>479589</th>\n",
       "      <td>2</td>\n",
       "      <td>really cds set player get ready journey like n...</td>\n",
       "    </tr>\n",
       "    <tr>\n",
       "      <th>626331</th>\n",
       "      <td>2</td>\n",
       "      <td>although harold battles book small simply hard...</td>\n",
       "    </tr>\n",
       "    <tr>\n",
       "      <th>346982</th>\n",
       "      <td>2</td>\n",
       "      <td>whats base black red root bark bark sesame see...</td>\n",
       "    </tr>\n",
       "    <tr>\n",
       "      <th>1605488</th>\n",
       "      <td>0</td>\n",
       "      <td>bought product hooking found need telephone ja...</td>\n",
       "    </tr>\n",
       "    <tr>\n",
       "      <th>1051640</th>\n",
       "      <td>2</td>\n",
       "      <td>absolutely love mobile received mail today son...</td>\n",
       "    </tr>\n",
       "  </tbody>\n",
       "</table>\n",
       "</div>"
      ],
      "text/plain": [
       "         sentiment                                               text\n",
       "479589           2  really cds set player get ready journey like n...\n",
       "626331           2  although harold battles book small simply hard...\n",
       "346982           2  whats base black red root bark bark sesame see...\n",
       "1605488          0  bought product hooking found need telephone ja...\n",
       "1051640          2  absolutely love mobile received mail today son..."
      ]
     },
     "execution_count": 4,
     "metadata": {},
     "output_type": "execute_result"
    }
   ],
   "source": [
    "df.head()"
   ]
  },
  {
   "cell_type": "code",
   "execution_count": 5,
   "id": "cc3a8b8c",
   "metadata": {},
   "outputs": [],
   "source": [
    "df['sentiment'] = df['sentiment'].replace(2,1)"
   ]
  },
  {
   "cell_type": "code",
   "execution_count": 6,
   "id": "53c66935",
   "metadata": {},
   "outputs": [
    {
     "data": {
      "text/html": [
       "<div>\n",
       "<style scoped>\n",
       "    .dataframe tbody tr th:only-of-type {\n",
       "        vertical-align: middle;\n",
       "    }\n",
       "\n",
       "    .dataframe tbody tr th {\n",
       "        vertical-align: top;\n",
       "    }\n",
       "\n",
       "    .dataframe thead th {\n",
       "        text-align: right;\n",
       "    }\n",
       "</style>\n",
       "<table border=\"1\" class=\"dataframe\">\n",
       "  <thead>\n",
       "    <tr style=\"text-align: right;\">\n",
       "      <th></th>\n",
       "      <th>sentiment</th>\n",
       "      <th>text</th>\n",
       "    </tr>\n",
       "  </thead>\n",
       "  <tbody>\n",
       "    <tr>\n",
       "      <th>479589</th>\n",
       "      <td>1</td>\n",
       "      <td>really cds set player get ready journey like n...</td>\n",
       "    </tr>\n",
       "    <tr>\n",
       "      <th>626331</th>\n",
       "      <td>1</td>\n",
       "      <td>although harold battles book small simply hard...</td>\n",
       "    </tr>\n",
       "    <tr>\n",
       "      <th>346982</th>\n",
       "      <td>1</td>\n",
       "      <td>whats base black red root bark bark sesame see...</td>\n",
       "    </tr>\n",
       "    <tr>\n",
       "      <th>1605488</th>\n",
       "      <td>0</td>\n",
       "      <td>bought product hooking found need telephone ja...</td>\n",
       "    </tr>\n",
       "    <tr>\n",
       "      <th>1051640</th>\n",
       "      <td>1</td>\n",
       "      <td>absolutely love mobile received mail today son...</td>\n",
       "    </tr>\n",
       "  </tbody>\n",
       "</table>\n",
       "</div>"
      ],
      "text/plain": [
       "         sentiment                                               text\n",
       "479589           1  really cds set player get ready journey like n...\n",
       "626331           1  although harold battles book small simply hard...\n",
       "346982           1  whats base black red root bark bark sesame see...\n",
       "1605488          0  bought product hooking found need telephone ja...\n",
       "1051640          1  absolutely love mobile received mail today son..."
      ]
     },
     "execution_count": 6,
     "metadata": {},
     "output_type": "execute_result"
    }
   ],
   "source": [
    "df.head()"
   ]
  },
  {
   "cell_type": "code",
   "execution_count": 7,
   "id": "38d11fee",
   "metadata": {},
   "outputs": [],
   "source": [
    "tokenizer = AutoTokenizer.from_pretrained('distilbert-base-uncased')\n",
    "def tokenize_function(example):\n",
    "    tok = tokenizer(example, padding=\"max_length\", truncation=True)\n",
    "    return tok['input_ids'], tok['attention_mask']\n",
    "    \n",
    "df['input_ids'], df['attention_mask'] = zip(*df['text'].map(tokenize_function))\n",
    "\n",
    "df_train, df_test = train_test_split(df, test_size=0.2)"
   ]
  },
  {
   "cell_type": "code",
   "execution_count": 8,
   "id": "f509f2b4",
   "metadata": {},
   "outputs": [
    {
     "data": {
      "text/html": [
       "<div>\n",
       "<style scoped>\n",
       "    .dataframe tbody tr th:only-of-type {\n",
       "        vertical-align: middle;\n",
       "    }\n",
       "\n",
       "    .dataframe tbody tr th {\n",
       "        vertical-align: top;\n",
       "    }\n",
       "\n",
       "    .dataframe thead th {\n",
       "        text-align: right;\n",
       "    }\n",
       "</style>\n",
       "<table border=\"1\" class=\"dataframe\">\n",
       "  <thead>\n",
       "    <tr style=\"text-align: right;\">\n",
       "      <th></th>\n",
       "      <th>sentiment</th>\n",
       "      <th>text</th>\n",
       "      <th>input_ids</th>\n",
       "      <th>attention_mask</th>\n",
       "    </tr>\n",
       "  </thead>\n",
       "  <tbody>\n",
       "    <tr>\n",
       "      <th>479589</th>\n",
       "      <td>1</td>\n",
       "      <td>really cds set player get ready journey like n...</td>\n",
       "      <td>[101, 2428, 14340, 2275, 2447, 2131, 3201, 499...</td>\n",
       "      <td>[1, 1, 1, 1, 1, 1, 1, 1, 1, 1, 1, 1, 1, 1, 1, ...</td>\n",
       "    </tr>\n",
       "    <tr>\n",
       "      <th>626331</th>\n",
       "      <td>1</td>\n",
       "      <td>although harold battles book small simply hard...</td>\n",
       "      <td>[101, 2348, 7157, 7465, 2338, 2235, 3432, 2524...</td>\n",
       "      <td>[1, 1, 1, 1, 1, 1, 1, 1, 1, 1, 1, 1, 1, 1, 1, ...</td>\n",
       "    </tr>\n",
       "    <tr>\n",
       "      <th>346982</th>\n",
       "      <td>1</td>\n",
       "      <td>whats base black red root bark bark sesame see...</td>\n",
       "      <td>[101, 2054, 2015, 2918, 2304, 2417, 7117, 1128...</td>\n",
       "      <td>[1, 1, 1, 1, 1, 1, 1, 1, 1, 1, 1, 1, 1, 1, 1, ...</td>\n",
       "    </tr>\n",
       "    <tr>\n",
       "      <th>1605488</th>\n",
       "      <td>0</td>\n",
       "      <td>bought product hooking found need telephone ja...</td>\n",
       "      <td>[101, 4149, 4031, 8103, 2075, 2179, 2342, 7026...</td>\n",
       "      <td>[1, 1, 1, 1, 1, 1, 1, 1, 1, 1, 1, 1, 1, 1, 1, ...</td>\n",
       "    </tr>\n",
       "    <tr>\n",
       "      <th>1051640</th>\n",
       "      <td>1</td>\n",
       "      <td>absolutely love mobile received mail today son...</td>\n",
       "      <td>[101, 7078, 2293, 4684, 2363, 5653, 2651, 2365...</td>\n",
       "      <td>[1, 1, 1, 1, 1, 1, 1, 1, 1, 1, 1, 1, 1, 1, 1, ...</td>\n",
       "    </tr>\n",
       "  </tbody>\n",
       "</table>\n",
       "</div>"
      ],
      "text/plain": [
       "         sentiment                                               text  \\\n",
       "479589           1  really cds set player get ready journey like n...   \n",
       "626331           1  although harold battles book small simply hard...   \n",
       "346982           1  whats base black red root bark bark sesame see...   \n",
       "1605488          0  bought product hooking found need telephone ja...   \n",
       "1051640          1  absolutely love mobile received mail today son...   \n",
       "\n",
       "                                                 input_ids  \\\n",
       "479589   [101, 2428, 14340, 2275, 2447, 2131, 3201, 499...   \n",
       "626331   [101, 2348, 7157, 7465, 2338, 2235, 3432, 2524...   \n",
       "346982   [101, 2054, 2015, 2918, 2304, 2417, 7117, 1128...   \n",
       "1605488  [101, 4149, 4031, 8103, 2075, 2179, 2342, 7026...   \n",
       "1051640  [101, 7078, 2293, 4684, 2363, 5653, 2651, 2365...   \n",
       "\n",
       "                                            attention_mask  \n",
       "479589   [1, 1, 1, 1, 1, 1, 1, 1, 1, 1, 1, 1, 1, 1, 1, ...  \n",
       "626331   [1, 1, 1, 1, 1, 1, 1, 1, 1, 1, 1, 1, 1, 1, 1, ...  \n",
       "346982   [1, 1, 1, 1, 1, 1, 1, 1, 1, 1, 1, 1, 1, 1, 1, ...  \n",
       "1605488  [1, 1, 1, 1, 1, 1, 1, 1, 1, 1, 1, 1, 1, 1, 1, ...  \n",
       "1051640  [1, 1, 1, 1, 1, 1, 1, 1, 1, 1, 1, 1, 1, 1, 1, ...  "
      ]
     },
     "execution_count": 8,
     "metadata": {},
     "output_type": "execute_result"
    }
   ],
   "source": [
    "df.head()"
   ]
  },
  {
   "cell_type": "code",
   "execution_count": 9,
   "id": "2b87b37b",
   "metadata": {},
   "outputs": [],
   "source": [
    "class Dataset(torch.utils.data.Dataset):\n",
    "    def __init__(self, dataframe):\n",
    "        self.df = dataframe\n",
    "\n",
    "    def __len__(self):\n",
    "        return len(self.df)\n",
    "\n",
    "    def __getitem__(self, idx):\n",
    "        item = self.df.iloc[idx]\n",
    "        return {\n",
    "            'input_ids' : torch.tensor(item['input_ids']).to(device),\n",
    "            'attention_mask' : torch.tensor(item['attention_mask']).to(device),\n",
    "            'labels' : torch.tensor(item['sentiment']).to(device)\n",
    "        }\n",
    "\n",
    "train_set = Dataset(df_train)\n",
    "test_set = Dataset(df_test)"
   ]
  },
  {
   "cell_type": "code",
   "execution_count": 10,
   "id": "2dd49b36",
   "metadata": {},
   "outputs": [
    {
     "name": "stderr",
     "output_type": "stream",
     "text": [
      "Some weights of the model checkpoint at distilbert-base-uncased were not used when initializing DistilBertModel: ['vocab_layer_norm.weight', 'vocab_projector.weight', 'vocab_transform.weight', 'vocab_projector.bias', 'vocab_layer_norm.bias', 'vocab_transform.bias']\n",
      "- This IS expected if you are initializing DistilBertModel from the checkpoint of a model trained on another task or with another architecture (e.g. initializing a BertForSequenceClassification model from a BertForPreTraining model).\n",
      "- This IS NOT expected if you are initializing DistilBertModel from the checkpoint of a model that you expect to be exactly identical (initializing a BertForSequenceClassification model from a BertForSequenceClassification model).\n"
     ]
    },
    {
     "name": "stdout",
     "output_type": "stream",
     "text": [
      "Classifier(\n",
      "  (bert): DistilBertModel(\n",
      "    (embeddings): Embeddings(\n",
      "      (word_embeddings): Embedding(30522, 768, padding_idx=0)\n",
      "      (position_embeddings): Embedding(512, 768)\n",
      "      (LayerNorm): LayerNorm((768,), eps=1e-12, elementwise_affine=True)\n",
      "      (dropout): Dropout(p=0.1, inplace=False)\n",
      "    )\n",
      "    (transformer): Transformer(\n",
      "      (layer): ModuleList(\n",
      "        (0): TransformerBlock(\n",
      "          (attention): MultiHeadSelfAttention(\n",
      "            (dropout): Dropout(p=0.1, inplace=False)\n",
      "            (q_lin): Linear(in_features=768, out_features=768, bias=True)\n",
      "            (k_lin): Linear(in_features=768, out_features=768, bias=True)\n",
      "            (v_lin): Linear(in_features=768, out_features=768, bias=True)\n",
      "            (out_lin): Linear(in_features=768, out_features=768, bias=True)\n",
      "          )\n",
      "          (sa_layer_norm): LayerNorm((768,), eps=1e-12, elementwise_affine=True)\n",
      "          (ffn): FFN(\n",
      "            (dropout): Dropout(p=0.1, inplace=False)\n",
      "            (lin1): Linear(in_features=768, out_features=3072, bias=True)\n",
      "            (lin2): Linear(in_features=3072, out_features=768, bias=True)\n",
      "          )\n",
      "          (output_layer_norm): LayerNorm((768,), eps=1e-12, elementwise_affine=True)\n",
      "        )\n",
      "        (1): TransformerBlock(\n",
      "          (attention): MultiHeadSelfAttention(\n",
      "            (dropout): Dropout(p=0.1, inplace=False)\n",
      "            (q_lin): Linear(in_features=768, out_features=768, bias=True)\n",
      "            (k_lin): Linear(in_features=768, out_features=768, bias=True)\n",
      "            (v_lin): Linear(in_features=768, out_features=768, bias=True)\n",
      "            (out_lin): Linear(in_features=768, out_features=768, bias=True)\n",
      "          )\n",
      "          (sa_layer_norm): LayerNorm((768,), eps=1e-12, elementwise_affine=True)\n",
      "          (ffn): FFN(\n",
      "            (dropout): Dropout(p=0.1, inplace=False)\n",
      "            (lin1): Linear(in_features=768, out_features=3072, bias=True)\n",
      "            (lin2): Linear(in_features=3072, out_features=768, bias=True)\n",
      "          )\n",
      "          (output_layer_norm): LayerNorm((768,), eps=1e-12, elementwise_affine=True)\n",
      "        )\n",
      "        (2): TransformerBlock(\n",
      "          (attention): MultiHeadSelfAttention(\n",
      "            (dropout): Dropout(p=0.1, inplace=False)\n",
      "            (q_lin): Linear(in_features=768, out_features=768, bias=True)\n",
      "            (k_lin): Linear(in_features=768, out_features=768, bias=True)\n",
      "            (v_lin): Linear(in_features=768, out_features=768, bias=True)\n",
      "            (out_lin): Linear(in_features=768, out_features=768, bias=True)\n",
      "          )\n",
      "          (sa_layer_norm): LayerNorm((768,), eps=1e-12, elementwise_affine=True)\n",
      "          (ffn): FFN(\n",
      "            (dropout): Dropout(p=0.1, inplace=False)\n",
      "            (lin1): Linear(in_features=768, out_features=3072, bias=True)\n",
      "            (lin2): Linear(in_features=3072, out_features=768, bias=True)\n",
      "          )\n",
      "          (output_layer_norm): LayerNorm((768,), eps=1e-12, elementwise_affine=True)\n",
      "        )\n",
      "        (3): TransformerBlock(\n",
      "          (attention): MultiHeadSelfAttention(\n",
      "            (dropout): Dropout(p=0.1, inplace=False)\n",
      "            (q_lin): Linear(in_features=768, out_features=768, bias=True)\n",
      "            (k_lin): Linear(in_features=768, out_features=768, bias=True)\n",
      "            (v_lin): Linear(in_features=768, out_features=768, bias=True)\n",
      "            (out_lin): Linear(in_features=768, out_features=768, bias=True)\n",
      "          )\n",
      "          (sa_layer_norm): LayerNorm((768,), eps=1e-12, elementwise_affine=True)\n",
      "          (ffn): FFN(\n",
      "            (dropout): Dropout(p=0.1, inplace=False)\n",
      "            (lin1): Linear(in_features=768, out_features=3072, bias=True)\n",
      "            (lin2): Linear(in_features=3072, out_features=768, bias=True)\n",
      "          )\n",
      "          (output_layer_norm): LayerNorm((768,), eps=1e-12, elementwise_affine=True)\n",
      "        )\n",
      "        (4): TransformerBlock(\n",
      "          (attention): MultiHeadSelfAttention(\n",
      "            (dropout): Dropout(p=0.1, inplace=False)\n",
      "            (q_lin): Linear(in_features=768, out_features=768, bias=True)\n",
      "            (k_lin): Linear(in_features=768, out_features=768, bias=True)\n",
      "            (v_lin): Linear(in_features=768, out_features=768, bias=True)\n",
      "            (out_lin): Linear(in_features=768, out_features=768, bias=True)\n",
      "          )\n",
      "          (sa_layer_norm): LayerNorm((768,), eps=1e-12, elementwise_affine=True)\n",
      "          (ffn): FFN(\n",
      "            (dropout): Dropout(p=0.1, inplace=False)\n",
      "            (lin1): Linear(in_features=768, out_features=3072, bias=True)\n",
      "            (lin2): Linear(in_features=3072, out_features=768, bias=True)\n",
      "          )\n",
      "          (output_layer_norm): LayerNorm((768,), eps=1e-12, elementwise_affine=True)\n",
      "        )\n",
      "        (5): TransformerBlock(\n",
      "          (attention): MultiHeadSelfAttention(\n",
      "            (dropout): Dropout(p=0.1, inplace=False)\n",
      "            (q_lin): Linear(in_features=768, out_features=768, bias=True)\n",
      "            (k_lin): Linear(in_features=768, out_features=768, bias=True)\n",
      "            (v_lin): Linear(in_features=768, out_features=768, bias=True)\n",
      "            (out_lin): Linear(in_features=768, out_features=768, bias=True)\n",
      "          )\n",
      "          (sa_layer_norm): LayerNorm((768,), eps=1e-12, elementwise_affine=True)\n",
      "          (ffn): FFN(\n",
      "            (dropout): Dropout(p=0.1, inplace=False)\n",
      "            (lin1): Linear(in_features=768, out_features=3072, bias=True)\n",
      "            (lin2): Linear(in_features=3072, out_features=768, bias=True)\n",
      "          )\n",
      "          (output_layer_norm): LayerNorm((768,), eps=1e-12, elementwise_affine=True)\n",
      "        )\n",
      "      )\n",
      "    )\n",
      "  )\n",
      "  (cls): Linear(in_features=768, out_features=2, bias=True)\n",
      ")\n"
     ]
    }
   ],
   "source": [
    "class Classifier(nn.Module):\n",
    "    def __init__(self, out_feat=2):\n",
    "        super().__init__()\n",
    "        self.bert = DistilBertModel.from_pretrained('distilbert-base-uncased')\n",
    "        self.cls = nn.Linear(768, out_feat)\n",
    "\n",
    "    def forward(self, input_ids, attention_mask):\n",
    "        outputs = self.bert(\n",
    "            input_ids,\n",
    "            attention_mask=attention_mask,\n",
    "        )\n",
    " \n",
    "        pooled_output = outputs.last_hidden_state[:,0,:] #[batch_dim, token_dim, ...] [CLS]\n",
    "        logits = self.cls(pooled_output)\n",
    "        return F.softmax(logits, dim=1)\n",
    "\n",
    "    def freeze_until_layer(self, n):\n",
    "      for name, param in self.named_parameters():\n",
    "        if str(n) in name:\n",
    "          break\n",
    "\n",
    "        param.requires_grad = False\n",
    "        \n",
    "    def print_layers(self):\n",
    "      total_nr_w = 0\n",
    "      trainable_nr_w = 0\n",
    "      for name, param in self.named_parameters():\n",
    "        nr_w = np.prod(param.size())\n",
    "        total_nr_w += nr_w\n",
    "        if param.requires_grad:\n",
    "          trainable_nr_w += nr_w\n",
    "        print('{}\\t{}\\t\\t\\t{}'.format(param.requires_grad, nr_w ,name))\n",
    "      print('The network has {} parameters, out of which {} ({:.1f}%) are trainable.'.format(total_nr_w, trainable_nr_w, trainable_nr_w / total_nr_w * 100))\n",
    "\n",
    "model = Classifier(2).to(device) # generez o instanță a modelului\n",
    "print(model)"
   ]
  },
  {
   "cell_type": "code",
   "execution_count": 11,
   "id": "8e47f9d1",
   "metadata": {},
   "outputs": [
    {
     "name": "stdout",
     "output_type": "stream",
     "text": [
      "False\t23440896\t\t\tbert.embeddings.word_embeddings.weight\n",
      "False\t393216\t\t\tbert.embeddings.position_embeddings.weight\n",
      "False\t768\t\t\tbert.embeddings.LayerNorm.weight\n",
      "False\t768\t\t\tbert.embeddings.LayerNorm.bias\n",
      "False\t589824\t\t\tbert.transformer.layer.0.attention.q_lin.weight\n",
      "False\t768\t\t\tbert.transformer.layer.0.attention.q_lin.bias\n",
      "False\t589824\t\t\tbert.transformer.layer.0.attention.k_lin.weight\n",
      "False\t768\t\t\tbert.transformer.layer.0.attention.k_lin.bias\n",
      "False\t589824\t\t\tbert.transformer.layer.0.attention.v_lin.weight\n",
      "False\t768\t\t\tbert.transformer.layer.0.attention.v_lin.bias\n",
      "False\t589824\t\t\tbert.transformer.layer.0.attention.out_lin.weight\n",
      "False\t768\t\t\tbert.transformer.layer.0.attention.out_lin.bias\n",
      "False\t768\t\t\tbert.transformer.layer.0.sa_layer_norm.weight\n",
      "False\t768\t\t\tbert.transformer.layer.0.sa_layer_norm.bias\n",
      "False\t2359296\t\t\tbert.transformer.layer.0.ffn.lin1.weight\n",
      "False\t3072\t\t\tbert.transformer.layer.0.ffn.lin1.bias\n",
      "False\t2359296\t\t\tbert.transformer.layer.0.ffn.lin2.weight\n",
      "False\t768\t\t\tbert.transformer.layer.0.ffn.lin2.bias\n",
      "False\t768\t\t\tbert.transformer.layer.0.output_layer_norm.weight\n",
      "False\t768\t\t\tbert.transformer.layer.0.output_layer_norm.bias\n",
      "False\t589824\t\t\tbert.transformer.layer.1.attention.q_lin.weight\n",
      "False\t768\t\t\tbert.transformer.layer.1.attention.q_lin.bias\n",
      "False\t589824\t\t\tbert.transformer.layer.1.attention.k_lin.weight\n",
      "False\t768\t\t\tbert.transformer.layer.1.attention.k_lin.bias\n",
      "False\t589824\t\t\tbert.transformer.layer.1.attention.v_lin.weight\n",
      "False\t768\t\t\tbert.transformer.layer.1.attention.v_lin.bias\n",
      "False\t589824\t\t\tbert.transformer.layer.1.attention.out_lin.weight\n",
      "False\t768\t\t\tbert.transformer.layer.1.attention.out_lin.bias\n",
      "False\t768\t\t\tbert.transformer.layer.1.sa_layer_norm.weight\n",
      "False\t768\t\t\tbert.transformer.layer.1.sa_layer_norm.bias\n",
      "False\t2359296\t\t\tbert.transformer.layer.1.ffn.lin1.weight\n",
      "False\t3072\t\t\tbert.transformer.layer.1.ffn.lin1.bias\n",
      "False\t2359296\t\t\tbert.transformer.layer.1.ffn.lin2.weight\n",
      "False\t768\t\t\tbert.transformer.layer.1.ffn.lin2.bias\n",
      "False\t768\t\t\tbert.transformer.layer.1.output_layer_norm.weight\n",
      "False\t768\t\t\tbert.transformer.layer.1.output_layer_norm.bias\n",
      "False\t589824\t\t\tbert.transformer.layer.2.attention.q_lin.weight\n",
      "False\t768\t\t\tbert.transformer.layer.2.attention.q_lin.bias\n",
      "False\t589824\t\t\tbert.transformer.layer.2.attention.k_lin.weight\n",
      "False\t768\t\t\tbert.transformer.layer.2.attention.k_lin.bias\n",
      "False\t589824\t\t\tbert.transformer.layer.2.attention.v_lin.weight\n",
      "False\t768\t\t\tbert.transformer.layer.2.attention.v_lin.bias\n",
      "False\t589824\t\t\tbert.transformer.layer.2.attention.out_lin.weight\n",
      "False\t768\t\t\tbert.transformer.layer.2.attention.out_lin.bias\n",
      "False\t768\t\t\tbert.transformer.layer.2.sa_layer_norm.weight\n",
      "False\t768\t\t\tbert.transformer.layer.2.sa_layer_norm.bias\n",
      "False\t2359296\t\t\tbert.transformer.layer.2.ffn.lin1.weight\n",
      "False\t3072\t\t\tbert.transformer.layer.2.ffn.lin1.bias\n",
      "False\t2359296\t\t\tbert.transformer.layer.2.ffn.lin2.weight\n",
      "False\t768\t\t\tbert.transformer.layer.2.ffn.lin2.bias\n",
      "False\t768\t\t\tbert.transformer.layer.2.output_layer_norm.weight\n",
      "False\t768\t\t\tbert.transformer.layer.2.output_layer_norm.bias\n",
      "False\t589824\t\t\tbert.transformer.layer.3.attention.q_lin.weight\n",
      "False\t768\t\t\tbert.transformer.layer.3.attention.q_lin.bias\n",
      "False\t589824\t\t\tbert.transformer.layer.3.attention.k_lin.weight\n",
      "False\t768\t\t\tbert.transformer.layer.3.attention.k_lin.bias\n",
      "False\t589824\t\t\tbert.transformer.layer.3.attention.v_lin.weight\n",
      "False\t768\t\t\tbert.transformer.layer.3.attention.v_lin.bias\n",
      "False\t589824\t\t\tbert.transformer.layer.3.attention.out_lin.weight\n",
      "False\t768\t\t\tbert.transformer.layer.3.attention.out_lin.bias\n",
      "False\t768\t\t\tbert.transformer.layer.3.sa_layer_norm.weight\n",
      "False\t768\t\t\tbert.transformer.layer.3.sa_layer_norm.bias\n",
      "False\t2359296\t\t\tbert.transformer.layer.3.ffn.lin1.weight\n",
      "False\t3072\t\t\tbert.transformer.layer.3.ffn.lin1.bias\n",
      "False\t2359296\t\t\tbert.transformer.layer.3.ffn.lin2.weight\n",
      "False\t768\t\t\tbert.transformer.layer.3.ffn.lin2.bias\n",
      "False\t768\t\t\tbert.transformer.layer.3.output_layer_norm.weight\n",
      "False\t768\t\t\tbert.transformer.layer.3.output_layer_norm.bias\n",
      "False\t589824\t\t\tbert.transformer.layer.4.attention.q_lin.weight\n",
      "False\t768\t\t\tbert.transformer.layer.4.attention.q_lin.bias\n",
      "False\t589824\t\t\tbert.transformer.layer.4.attention.k_lin.weight\n",
      "False\t768\t\t\tbert.transformer.layer.4.attention.k_lin.bias\n",
      "False\t589824\t\t\tbert.transformer.layer.4.attention.v_lin.weight\n",
      "False\t768\t\t\tbert.transformer.layer.4.attention.v_lin.bias\n",
      "False\t589824\t\t\tbert.transformer.layer.4.attention.out_lin.weight\n",
      "False\t768\t\t\tbert.transformer.layer.4.attention.out_lin.bias\n",
      "False\t768\t\t\tbert.transformer.layer.4.sa_layer_norm.weight\n",
      "False\t768\t\t\tbert.transformer.layer.4.sa_layer_norm.bias\n",
      "False\t2359296\t\t\tbert.transformer.layer.4.ffn.lin1.weight\n",
      "False\t3072\t\t\tbert.transformer.layer.4.ffn.lin1.bias\n",
      "False\t2359296\t\t\tbert.transformer.layer.4.ffn.lin2.weight\n",
      "False\t768\t\t\tbert.transformer.layer.4.ffn.lin2.bias\n",
      "False\t768\t\t\tbert.transformer.layer.4.output_layer_norm.weight\n",
      "False\t768\t\t\tbert.transformer.layer.4.output_layer_norm.bias\n",
      "True\t589824\t\t\tbert.transformer.layer.5.attention.q_lin.weight\n",
      "True\t768\t\t\tbert.transformer.layer.5.attention.q_lin.bias\n",
      "True\t589824\t\t\tbert.transformer.layer.5.attention.k_lin.weight\n",
      "True\t768\t\t\tbert.transformer.layer.5.attention.k_lin.bias\n",
      "True\t589824\t\t\tbert.transformer.layer.5.attention.v_lin.weight\n",
      "True\t768\t\t\tbert.transformer.layer.5.attention.v_lin.bias\n",
      "True\t589824\t\t\tbert.transformer.layer.5.attention.out_lin.weight\n",
      "True\t768\t\t\tbert.transformer.layer.5.attention.out_lin.bias\n",
      "True\t768\t\t\tbert.transformer.layer.5.sa_layer_norm.weight\n",
      "True\t768\t\t\tbert.transformer.layer.5.sa_layer_norm.bias\n",
      "True\t2359296\t\t\tbert.transformer.layer.5.ffn.lin1.weight\n",
      "True\t3072\t\t\tbert.transformer.layer.5.ffn.lin1.bias\n",
      "True\t2359296\t\t\tbert.transformer.layer.5.ffn.lin2.weight\n",
      "True\t768\t\t\tbert.transformer.layer.5.ffn.lin2.bias\n",
      "True\t768\t\t\tbert.transformer.layer.5.output_layer_norm.weight\n",
      "True\t768\t\t\tbert.transformer.layer.5.output_layer_norm.bias\n",
      "True\t1536\t\t\tcls.weight\n",
      "True\t2\t\t\tcls.bias\n",
      "The network has 66364418 parameters, out of which 7089410 (10.7%) are trainable.\n"
     ]
    }
   ],
   "source": [
    "model.freeze_until_layer(5)\n",
    "model.print_layers()"
   ]
  },
  {
   "cell_type": "code",
   "execution_count": 12,
   "id": "bc478e76",
   "metadata": {},
   "outputs": [],
   "source": [
    "def evaluate(model):\n",
    "  # Pregatim o modalitate de stocare a datelor pentru evaluare\n",
    "  eval_outputs = []\n",
    "  true_labels = []\n",
    "  # Trecem modelul in modul train\n",
    "  model.eval()\n",
    "\n",
    "  ########### Evaluation Loop #############\n",
    "  with torch.no_grad():\n",
    "      for batch in tqdm(test_loader, total=len(test_loader)):\n",
    "          outputs = model(input_ids=batch['input_ids'], attention_mask=batch['attention_mask'])\n",
    "\n",
    "          outputs = outputs.cpu() ## copy-ing the outputs from CUDA to CPU\n",
    "          outputs = np.argmax(outputs, axis=1)\n",
    "\n",
    "          eval_outputs += outputs.tolist()\n",
    "          true_labels += batch['labels'].tolist()\n",
    "\n",
    "  #acc = metrics.accuracy_score(true_labels, eval_outputs)\n",
    "  f1 = metrics.f1_score(true_labels, eval_outputs)\n",
    "  print(\"F1: {}\".format(f1) , end =\" \")"
   ]
  },
  {
   "cell_type": "code",
   "execution_count": 13,
   "id": "8da9ce98",
   "metadata": {},
   "outputs": [
    {
     "name": "stderr",
     "output_type": "stream",
     "text": [
      "\r",
      "  0%|                                                  | 0/2500 [00:00<?, ?it/s]"
     ]
    },
    {
     "name": "stdout",
     "output_type": "stream",
     "text": [
      "Running epoch 0 "
     ]
    },
    {
     "name": "stderr",
     "output_type": "stream",
     "text": [
      "100%|█████████████████████████████████████| 2500/2500 [1:12:41<00:00,  1.74s/it]\n"
     ]
    },
    {
     "name": "stdout",
     "output_type": "stream",
     "text": [
      "Saving model with train loss: 0.47198699218034745 "
     ]
    },
    {
     "name": "stderr",
     "output_type": "stream",
     "text": [
      "100%|█████████████████████████████████████████| 625/625 [14:08<00:00,  1.36s/it]\n",
      "  0%|                                                  | 0/2500 [00:00<?, ?it/s]"
     ]
    },
    {
     "name": "stdout",
     "output_type": "stream",
     "text": [
      "F1: 0.859075535512965 Running epoch 1 "
     ]
    },
    {
     "name": "stderr",
     "output_type": "stream",
     "text": [
      "100%|█████████████████████████████████████| 2500/2500 [1:10:32<00:00,  1.69s/it]\n"
     ]
    },
    {
     "name": "stdout",
     "output_type": "stream",
     "text": [
      "Saving model with train loss: 0.438261607503891 "
     ]
    },
    {
     "name": "stderr",
     "output_type": "stream",
     "text": [
      "100%|█████████████████████████████████████████| 625/625 [14:10<00:00,  1.36s/it]\n",
      "  0%|                                                  | 0/2500 [00:00<?, ?it/s]"
     ]
    },
    {
     "name": "stdout",
     "output_type": "stream",
     "text": [
      "F1: 0.8652489367025269 Running epoch 2 "
     ]
    },
    {
     "name": "stderr",
     "output_type": "stream",
     "text": [
      "100%|█████████████████████████████████████| 2500/2500 [1:10:33<00:00,  1.69s/it]\n"
     ]
    },
    {
     "name": "stdout",
     "output_type": "stream",
     "text": [
      "Saving model with train loss: 0.42452582869529726 "
     ]
    },
    {
     "name": "stderr",
     "output_type": "stream",
     "text": [
      "100%|█████████████████████████████████████████| 625/625 [14:09<00:00,  1.36s/it]\n",
      "  0%|                                                  | 0/2500 [00:00<?, ?it/s]"
     ]
    },
    {
     "name": "stdout",
     "output_type": "stream",
     "text": [
      "F1: 0.864169927333706 Running epoch 3 "
     ]
    },
    {
     "name": "stderr",
     "output_type": "stream",
     "text": [
      "100%|█████████████████████████████████████| 2500/2500 [1:10:43<00:00,  1.70s/it]\n"
     ]
    },
    {
     "name": "stdout",
     "output_type": "stream",
     "text": [
      "Saving model with train loss: 0.4136776436805725 "
     ]
    },
    {
     "name": "stderr",
     "output_type": "stream",
     "text": [
      "100%|█████████████████████████████████████████| 625/625 [14:09<00:00,  1.36s/it]\n",
      "  0%|                                                  | 0/2500 [00:00<?, ?it/s]"
     ]
    },
    {
     "name": "stdout",
     "output_type": "stream",
     "text": [
      "F1: 0.8672026050676707 Running epoch 4 "
     ]
    },
    {
     "name": "stderr",
     "output_type": "stream",
     "text": [
      "100%|█████████████████████████████████████| 2500/2500 [1:10:43<00:00,  1.70s/it]\n"
     ]
    },
    {
     "name": "stdout",
     "output_type": "stream",
     "text": [
      "Saving model with train loss: 0.401535007750988 "
     ]
    },
    {
     "name": "stderr",
     "output_type": "stream",
     "text": [
      "100%|█████████████████████████████████████████| 625/625 [14:08<00:00,  1.36s/it]\n",
      "  0%|                                                  | 0/2500 [00:00<?, ?it/s]"
     ]
    },
    {
     "name": "stdout",
     "output_type": "stream",
     "text": [
      "F1: 0.8736722493947926 Running epoch 5 "
     ]
    },
    {
     "name": "stderr",
     "output_type": "stream",
     "text": [
      "100%|█████████████████████████████████████| 2500/2500 [1:10:47<00:00,  1.70s/it]\n"
     ]
    },
    {
     "name": "stdout",
     "output_type": "stream",
     "text": [
      "Saving model with train loss: 0.3913104826927185 "
     ]
    },
    {
     "name": "stderr",
     "output_type": "stream",
     "text": [
      "100%|█████████████████████████████████████████| 625/625 [14:11<00:00,  1.36s/it]\n",
      "  0%|                                                  | 0/2500 [00:00<?, ?it/s]"
     ]
    },
    {
     "name": "stdout",
     "output_type": "stream",
     "text": [
      "F1: 0.8619549493697044 Running epoch 6 "
     ]
    },
    {
     "name": "stderr",
     "output_type": "stream",
     "text": [
      "100%|█████████████████████████████████████| 2500/2500 [1:11:11<00:00,  1.71s/it]\n"
     ]
    },
    {
     "name": "stdout",
     "output_type": "stream",
     "text": [
      "Saving model with train loss: 0.3827972535967827 "
     ]
    },
    {
     "name": "stderr",
     "output_type": "stream",
     "text": [
      "100%|█████████████████████████████████████████| 625/625 [14:21<00:00,  1.38s/it]"
     ]
    },
    {
     "name": "stdout",
     "output_type": "stream",
     "text": [
      "F1: 0.86865598027127 Early Stopping!\n"
     ]
    },
    {
     "name": "stderr",
     "output_type": "stream",
     "text": [
      "\n"
     ]
    }
   ],
   "source": [
    "LEARNING_RATE = 5e-5 # Rata de invatare\n",
    "NR_EPOCHS = 8 # Numarul de epoci\n",
    "BATCH_SIZE = 32 # Numarul de samples dintr-un batch\n",
    "\n",
    "criterion = nn.CrossEntropyLoss()\n",
    "optimizer = AdamW(model.parameters(), lr=LEARNING_RATE)\n",
    "\n",
    "# Pregatim o modalitate de loggare a informatiilor din timpul antrenarii\n",
    "log_info = []\n",
    "\n",
    "# Pregatim DataLoader-ul pentru antrenare\n",
    "train_loader = torch.utils.data.DataLoader(train_set, batch_size=BATCH_SIZE, shuffle=True)\n",
    "\n",
    "# Pregatim DataLoader-ul pentru validare\n",
    "test_loader = torch.utils.data.DataLoader(test_set, batch_size=32, shuffle=False)\n",
    "\n",
    "# Trecem modelul in modul train\n",
    "model.train() \n",
    "\n",
    "\n",
    "########### Training Loop #############\n",
    "\n",
    "\n",
    "min_epoch_loss = np.Inf\n",
    "last_epoch_loss = np.Inf\n",
    "# pentru fiecare epoca (1 epoca = o iteratie peste intregul set de date)\n",
    "for epoch in range(NR_EPOCHS):\n",
    "    print('Running epoch {}'.format(epoch), end =\" \")\n",
    "\n",
    "    epoch_losses = []\n",
    "    # pentru fiecare batch de BATCH_SIZE exemple din setul de date    \n",
    "    for i, batch in tqdm(enumerate(train_loader), total=len(train_loader)):\n",
    "\n",
    "        # anulam gradientii deja acumulati la nivelul retelei neuronale\n",
    "        optimizer.zero_grad()\n",
    "\n",
    "        # FORWARD PASS: trecem inputurile prin retea\n",
    "        outputs = model(input_ids=batch['input_ids'], attention_mask=batch['attention_mask'])\n",
    "\n",
    "        # Calculam LOSSul dintre etichetele prezise si cele reale\n",
    "        loss = criterion(outputs, batch['labels'])\n",
    "\n",
    "        # BACKPRPAGATION: calculam gradientii propagand LOSSul in retea\n",
    "        loss.backward()\n",
    "\n",
    "        # Utilizam optimizorul pentru a modifica parametrii retelei in functie de gradientii acumulati\n",
    "        optimizer.step()\n",
    "\n",
    "        # Salvam informatii despre antrenare (in cazul nostru, salvam valoarea LOSS)\n",
    "        epoch_losses.append(loss.item()) \n",
    "    \n",
    "    this_epoch_loss = np.mean(epoch_losses)\n",
    "    log_info.append((epoch, this_epoch_loss))\n",
    "    \n",
    "    if this_epoch_loss <= min_epoch_loss:\n",
    "      min_epoch_loss = this_epoch_loss\n",
    "      print(\"Saving model with train loss: {}\".format(this_epoch_loss), end =\" \")\n",
    "      torch.save(model, \"classfication_model.pt\")\n",
    "\n",
    "    evaluate(model)\n",
    "    \n",
    "    if last_epoch_loss - this_epoch_loss < 0.01:\n",
    "      print(\"Early Stopping!\")\n",
    "      break\n",
    "\n",
    "    last_epoch_loss = this_epoch_loss"
   ]
  },
  {
   "cell_type": "code",
   "execution_count": 16,
   "id": "2eefc2e5",
   "metadata": {},
   "outputs": [
    {
     "data": {
      "image/png": "[encoded data removed]",
      "text/plain": [
       "<Figure size 432x288 with 1 Axes>"
      ]
     },
     "metadata": {
      "needs_background": "light"
     },
     "output_type": "display_data"
    }
   ],
   "source": [
    "X = [x for x, loss in log_info]\n",
    "Y = [loss for x, loss in log_info]\n",
    "plt.plot(X,Y)\n",
    "plt.xlabel(\"Epoch\")\n",
    "plt.ylabel(\"LOSS\")\n",
    "plt.show()"
   ]
  },
  {
   "cell_type": "code",
   "execution_count": 15,
   "id": "c2531efb",
   "metadata": {},
   "outputs": [
    {
     "name": "stderr",
     "output_type": "stream",
     "text": [
      "100%|█████████████████████████████████████████| 625/625 [14:20<00:00,  1.38s/it]"
     ]
    },
    {
     "name": "stdout",
     "output_type": "stream",
     "text": [
      "F1: 0.86865598027127 "
     ]
    },
    {
     "name": "stderr",
     "output_type": "stream",
     "text": [
      "\n"
     ]
    }
   ],
   "source": [
    "evaluate(model)"
   ]
  },
  {
   "cell_type": "code",
   "execution_count": null,
   "id": "bd9ebaa4",
   "metadata": {},
   "outputs": [],
   "source": []
  }
 ],
 "metadata": {
  "kernelspec": {
   "display_name": "Python 3 (ipykernel)",
   "language": "python",
   "name": "python3"
  },
  "language_info": {
   "codemirror_mode": {
    "name": "ipython",
    "version": 3
   },
   "file_extension": ".py",
   "mimetype": "text/x-python",
   "name": "python",
   "nbconvert_exporter": "python",
   "pygments_lexer": "ipython3",
   "version": "3.9.7"
  }
 },
 "nbformat": 4,
 "nbformat_minor": 5
}
