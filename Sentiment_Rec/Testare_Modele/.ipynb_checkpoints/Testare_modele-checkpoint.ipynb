{
 "cells": [
  {
   "cell_type": "code",
   "execution_count": 57,
   "id": "47a6b618",
   "metadata": {},
   "outputs": [],
   "source": [
    "import pandas as pd\n",
    "import string\n",
    "import numpy as np\n",
    "\n",
    "from keras.preprocessing.sequence import pad_sequences\n",
    "from nltk.stem import PorterStemmer"
   ]
  },
  {
   "cell_type": "code",
   "execution_count": 58,
   "id": "8d041257",
   "metadata": {},
   "outputs": [],
   "source": [
    "porter=PorterStemmer()"
   ]
  },
  {
   "cell_type": "code",
   "execution_count": 81,
   "id": "7c634d68",
   "metadata": {},
   "outputs": [],
   "source": [
    "def clean_punct(a):        \n",
    "    return a.lower().translate(str.maketrans('', '', string.punctuation))"
   ]
  },
  {
   "cell_type": "code",
   "execution_count": 129,
   "id": "452aed94",
   "metadata": {},
   "outputs": [],
   "source": [
    "#df = pd.read_csv(\"../Datasets/Standard/test.csv\",header=0)\n",
    "#df=df.sample(1000)\n",
    "df = pd.read_csv(\"./Sentiment.csv\",header=0)\n",
    "df=df.dropna()"
   ]
  },
  {
   "cell_type": "code",
   "execution_count": 130,
   "id": "9f30dc43",
   "metadata": {},
   "outputs": [
    {
     "data": {
      "text/html": [
       "<div>\n",
       "<style scoped>\n",
       "    .dataframe tbody tr th:only-of-type {\n",
       "        vertical-align: middle;\n",
       "    }\n",
       "\n",
       "    .dataframe tbody tr th {\n",
       "        vertical-align: top;\n",
       "    }\n",
       "\n",
       "    .dataframe thead th {\n",
       "        text-align: right;\n",
       "    }\n",
       "</style>\n",
       "<table border=\"1\" class=\"dataframe\">\n",
       "  <thead>\n",
       "    <tr style=\"text-align: right;\">\n",
       "      <th></th>\n",
       "      <th>sentiment</th>\n",
       "      <th>text</th>\n",
       "    </tr>\n",
       "  </thead>\n",
       "  <tbody>\n",
       "    <tr>\n",
       "      <th>0</th>\n",
       "      <td>0</td>\n",
       "      <td>One trucker committed to staying opted to resi...</td>\n",
       "    </tr>\n",
       "    <tr>\n",
       "      <th>1</th>\n",
       "      <td>1</td>\n",
       "      <td>Rescue workers in Florida saved a dog that got...</td>\n",
       "    </tr>\n",
       "    <tr>\n",
       "      <th>2</th>\n",
       "      <td>0</td>\n",
       "      <td>A California man is in federal custody after h...</td>\n",
       "    </tr>\n",
       "    <tr>\n",
       "      <th>3</th>\n",
       "      <td>0</td>\n",
       "      <td>Juan Remberto Rivas, 50, had to be subdued by ...</td>\n",
       "    </tr>\n",
       "    <tr>\n",
       "      <th>4</th>\n",
       "      <td>1</td>\n",
       "      <td>\"I met Prince Harry,\" she captioned the post. ...</td>\n",
       "    </tr>\n",
       "    <tr>\n",
       "      <th>5</th>\n",
       "      <td>0</td>\n",
       "      <td>In a new episode of Fox Nation’s \"Crime Storie...</td>\n",
       "    </tr>\n",
       "    <tr>\n",
       "      <th>6</th>\n",
       "      <td>0</td>\n",
       "      <td>The US president also warned the American econ...</td>\n",
       "    </tr>\n",
       "    <tr>\n",
       "      <th>7</th>\n",
       "      <td>1</td>\n",
       "      <td>The win will give PSG hope that they can head ...</td>\n",
       "    </tr>\n",
       "    <tr>\n",
       "      <th>8</th>\n",
       "      <td>0</td>\n",
       "      <td>PJ O'Rourke, a best-selling American satirist,...</td>\n",
       "    </tr>\n",
       "  </tbody>\n",
       "</table>\n",
       "</div>"
      ],
      "text/plain": [
       "   sentiment                                               text\n",
       "0          0  One trucker committed to staying opted to resi...\n",
       "1          1  Rescue workers in Florida saved a dog that got...\n",
       "2          0  A California man is in federal custody after h...\n",
       "3          0  Juan Remberto Rivas, 50, had to be subdued by ...\n",
       "4          1  \"I met Prince Harry,\" she captioned the post. ...\n",
       "5          0  In a new episode of Fox Nation’s \"Crime Storie...\n",
       "6          0  The US president also warned the American econ...\n",
       "7          1  The win will give PSG hope that they can head ...\n",
       "8          0  PJ O'Rourke, a best-selling American satirist,..."
      ]
     },
     "execution_count": 130,
     "metadata": {},
     "output_type": "execute_result"
    }
   ],
   "source": [
    "df.head(10)"
   ]
  },
  {
   "cell_type": "code",
   "execution_count": 131,
   "id": "e87b548a",
   "metadata": {},
   "outputs": [],
   "source": [
    "df = df[df.sentiment != \"Neutral\"]"
   ]
  },
  {
   "cell_type": "code",
   "execution_count": 132,
   "id": "0496f72d",
   "metadata": {},
   "outputs": [
    {
     "data": {
      "text/html": [
       "<div>\n",
       "<style scoped>\n",
       "    .dataframe tbody tr th:only-of-type {\n",
       "        vertical-align: middle;\n",
       "    }\n",
       "\n",
       "    .dataframe tbody tr th {\n",
       "        vertical-align: top;\n",
       "    }\n",
       "\n",
       "    .dataframe thead th {\n",
       "        text-align: right;\n",
       "    }\n",
       "</style>\n",
       "<table border=\"1\" class=\"dataframe\">\n",
       "  <thead>\n",
       "    <tr style=\"text-align: right;\">\n",
       "      <th></th>\n",
       "      <th>sentiment</th>\n",
       "      <th>text</th>\n",
       "    </tr>\n",
       "  </thead>\n",
       "  <tbody>\n",
       "    <tr>\n",
       "      <th>0</th>\n",
       "      <td>0</td>\n",
       "      <td>One trucker committed to staying opted to resi...</td>\n",
       "    </tr>\n",
       "    <tr>\n",
       "      <th>1</th>\n",
       "      <td>1</td>\n",
       "      <td>Rescue workers in Florida saved a dog that got...</td>\n",
       "    </tr>\n",
       "    <tr>\n",
       "      <th>2</th>\n",
       "      <td>0</td>\n",
       "      <td>A California man is in federal custody after h...</td>\n",
       "    </tr>\n",
       "    <tr>\n",
       "      <th>3</th>\n",
       "      <td>0</td>\n",
       "      <td>Juan Remberto Rivas, 50, had to be subdued by ...</td>\n",
       "    </tr>\n",
       "    <tr>\n",
       "      <th>4</th>\n",
       "      <td>1</td>\n",
       "      <td>\"I met Prince Harry,\" she captioned the post. ...</td>\n",
       "    </tr>\n",
       "  </tbody>\n",
       "</table>\n",
       "</div>"
      ],
      "text/plain": [
       "   sentiment                                               text\n",
       "0          0  One trucker committed to staying opted to resi...\n",
       "1          1  Rescue workers in Florida saved a dog that got...\n",
       "2          0  A California man is in federal custody after h...\n",
       "3          0  Juan Remberto Rivas, 50, had to be subdued by ...\n",
       "4          1  \"I met Prince Harry,\" she captioned the post. ..."
      ]
     },
     "execution_count": 132,
     "metadata": {},
     "output_type": "execute_result"
    }
   ],
   "source": [
    "df.head()"
   ]
  },
  {
   "cell_type": "code",
   "execution_count": 133,
   "id": "55df57ca",
   "metadata": {},
   "outputs": [],
   "source": [
    "df[\"text\"] = df[\"text\"].str.lower()\n",
    "df[\"text\"] = df[\"text\"].apply(lambda x: clean_punct(x))"
   ]
  },
  {
   "cell_type": "code",
   "execution_count": 134,
   "id": "4a0d9888",
   "metadata": {},
   "outputs": [],
   "source": [
    "stopwords=['i', 'me', 'my', 'myself', 'we', 'our', 'ours', 'ourselves', 'you', \"you're\", \"you've\", \"you'll\", \"you'd\", 'your', 'yours', 'yourself', 'yourselves', 'he', 'him', 'his', 'himself', 'she', \"she's\", 'her', 'hers', 'herself', 'it', \"it's\", 'its', 'itself', 'they', 'them', 'their', 'theirs', 'themselves', 'what', 'which', 'who', 'whom', 'this', 'that', \"that'll\", 'these', 'those', 'am', 'is', 'are', 'was', 'were', 'be', 'been', 'being', 'have', 'has', 'had', 'having', 'do', 'does', 'did', 'doing', 'a', 'an', 'the', 'and', 'but', 'if', 'or', 'because', 'as', 'until', 'while', 'of', 'at', 'by', 'for', 'with', 'about', 'against', 'between', 'into', 'through', 'during', 'before', 'after', 'above', 'below', 'to', 'from', 'up', 'down', 'in', 'out', 'on', 'off', 'over', 'under', 'again', 'further', 'then', 'once', 'here', 'there', 'when', 'where', 'why', 'how', 'all', 'any', 'both', 'each', 'few', 'more', 'most', 'other', 'some', 'such', 'only', 'own', 'same', 'so', 'than', 'too', 'very', 's', 't', 'can', 'will', 'just', 'should', \"should've\", 'now', 'd', 'll', 'm', 'o', 're', 've', 'y']\n"
   ]
  },
  {
   "cell_type": "code",
   "execution_count": 135,
   "id": "8d74c5f7",
   "metadata": {},
   "outputs": [],
   "source": [
    "def clean_stop(a):\n",
    "    a_token=a.split()\n",
    "    \n",
    "    str1=\"\"\n",
    "    for tk in a_token:\n",
    "        if tk in stopwords:\n",
    "            continue\n",
    "        else:\n",
    "            str1 += tk+\" \"\n",
    "            \n",
    "    return str1"
   ]
  },
  {
   "cell_type": "code",
   "execution_count": 136,
   "id": "6346ae97",
   "metadata": {},
   "outputs": [],
   "source": [
    "df[\"text\"] = df[\"text\"].apply(lambda x: clean_stop(x))"
   ]
  },
  {
   "cell_type": "code",
   "execution_count": 137,
   "id": "53cc5b93",
   "metadata": {},
   "outputs": [],
   "source": [
    "def clean_stem(a):\n",
    "    a_token=a.split()\n",
    "    \n",
    "    str1=\"\"\n",
    "    for tk in a_token:\n",
    "            str1 += porter.stem(tk)+\" \"\n",
    "            \n",
    "    return str1"
   ]
  },
  {
   "cell_type": "code",
   "execution_count": 138,
   "id": "4626c846",
   "metadata": {},
   "outputs": [],
   "source": [
    "df[\"text\"] = df[\"text\"].apply(lambda x: clean_stem(x))"
   ]
  },
  {
   "cell_type": "code",
   "execution_count": 139,
   "id": "8c8a0485",
   "metadata": {},
   "outputs": [],
   "source": [
    "import pickle\n",
    "with open(\"./cuvinte.pkl\", \"rb\") as pkl_handle:\n",
    "\tword_info = pickle.load(pkl_handle)"
   ]
  },
  {
   "cell_type": "code",
   "execution_count": 140,
   "id": "0df9fb77",
   "metadata": {},
   "outputs": [
    {
     "data": {
      "text/plain": [
       "0    one trucker commit stay opt resign compani sus...\n",
       "1    rescu worker florida save dog got stuck deep h...\n",
       "2    california man feder custodi allegedli tri ope...\n",
       "3    juan remberto riva 50 subdu passeng flight att...\n",
       "4    met princ harri caption post love even curtsi ...\n",
       "5    new episod fox nation’ crime stori nanci grace...\n",
       "6    us presid also warn american economi could suf...\n",
       "7    win give psg hope head madrid wednesday 9 marc...\n",
       "8    pj orourk bestsel american satirist columnist ...\n",
       "Name: text, dtype: object"
      ]
     },
     "execution_count": 140,
     "metadata": {},
     "output_type": "execute_result"
    }
   ],
   "source": [
    "df[\"text\"]"
   ]
  },
  {
   "cell_type": "code",
   "execution_count": 141,
   "id": "e8166df0",
   "metadata": {},
   "outputs": [],
   "source": [
    "X_train = df['text']\n",
    "y_train = df['sentiment'].values"
   ]
  },
  {
   "cell_type": "code",
   "execution_count": 142,
   "id": "e269260e",
   "metadata": {},
   "outputs": [
    {
     "data": {
      "text/plain": [
       "0    one trucker commit stay opt resign compani sus...\n",
       "1    rescu worker florida save dog got stuck deep h...\n",
       "2    california man feder custodi allegedli tri ope...\n",
       "3    juan remberto riva 50 subdu passeng flight att...\n",
       "4    met princ harri caption post love even curtsi ...\n",
       "5    new episod fox nation’ crime stori nanci grace...\n",
       "6    us presid also warn american economi could suf...\n",
       "7    win give psg hope head madrid wednesday 9 marc...\n",
       "8    pj orourk bestsel american satirist columnist ...\n",
       "Name: text, dtype: object"
      ]
     },
     "execution_count": 142,
     "metadata": {},
     "output_type": "execute_result"
    }
   ],
   "source": [
    "X_train"
   ]
  },
  {
   "cell_type": "code",
   "execution_count": 143,
   "id": "11aa1e20",
   "metadata": {},
   "outputs": [],
   "source": [
    "train_labels=[]\n",
    "for i in range(0,len(y_train)):\n",
    "    train_labels.append([0,0])"
   ]
  },
  {
   "cell_type": "code",
   "execution_count": 144,
   "id": "c795a0ea",
   "metadata": {},
   "outputs": [],
   "source": [
    "for i in range(0,len(y_train)):\n",
    "    if y_train[i] == 0:\n",
    "        train_labels[i][0]=1\n",
    "    else:\n",
    "        train_labels[i][1]=1"
   ]
  },
  {
   "cell_type": "code",
   "execution_count": 145,
   "id": "10da868c",
   "metadata": {},
   "outputs": [],
   "source": [
    "train_labels=np.array(train_labels)"
   ]
  },
  {
   "cell_type": "code",
   "execution_count": 146,
   "id": "f449c445",
   "metadata": {},
   "outputs": [],
   "source": [
    "import pickle\n",
    "with open('tokenizer-200.pickle', 'rb') as handle:\n",
    "    tokenizer = pickle.load(handle)"
   ]
  },
  {
   "cell_type": "code",
   "execution_count": 147,
   "id": "b1886463",
   "metadata": {},
   "outputs": [],
   "source": [
    "X_train = tokenizer.texts_to_sequences(X_train)\n",
    "X_train = pad_sequences(X_train, maxlen = 128)"
   ]
  },
  {
   "cell_type": "code",
   "execution_count": 148,
   "id": "94709359",
   "metadata": {},
   "outputs": [
    {
     "name": "stdout",
     "output_type": "stream",
     "text": [
      "[    0     0     0     0     0     0     0     0     0     0     0     0\n",
      "     0     0     0     0     0     0     0     0     0     0     0     0\n",
      "     0     0     0     0     0     0     0     0     0     0     0     0\n",
      "     0     0     0     0     0     0     0     0     0     0     0     0\n",
      "     0     0     0     0     0     0     0     0     0     0     0     0\n",
      "     0     0     0     0     0     0     0     0     0     0     0     0\n",
      "     0     0     0     0     0     0     0     0     0     0     0     0\n",
      "     0     0     0     0     0     0     0     0     0     0     0     0\n",
      "     0     0     0     0     0     0     0     0     0     0     0     0\n",
      "     0     0     0     0     0     0     0     0     0     0     0     3\n",
      " 14747  2217   326  4365 11588   339  4946  5105]\n",
      "[1 0]\n"
     ]
    }
   ],
   "source": [
    "print(X_train[0])\n",
    "print(train_labels[0])"
   ]
  },
  {
   "cell_type": "code",
   "execution_count": 149,
   "id": "6a3e6963",
   "metadata": {},
   "outputs": [
    {
     "name": "stdout",
     "output_type": "stream",
     "text": [
      "WARNING:tensorflow:Layer lstm will not use cuDNN kernels since it doesn't meet the criteria. It will use a generic GPU kernel as fallback when running on GPU.\n"
     ]
    }
   ],
   "source": [
    "from tensorflow import keras\n",
    "model = keras.models.load_model('./Model-200/')"
   ]
  },
  {
   "cell_type": "code",
   "execution_count": 150,
   "id": "e0649c1c",
   "metadata": {
    "scrolled": true
   },
   "outputs": [
    {
     "name": "stdout",
     "output_type": "stream",
     "text": [
      "WARNING:tensorflow:Model was constructed with shape (None, 209) for input KerasTensor(type_spec=TensorSpec(shape=(None, 209), dtype=tf.float32, name='embedding_input'), name='embedding_input', description=\"created by layer 'embedding_input'\"), but it was called on an input with incompatible shape (None, 128).\n",
      "1/1 [==============================] - 1s 805ms/step - loss: 0.8130 - accuracy: 0.5556\n"
     ]
    },
    {
     "data": {
      "text/plain": [
       "[0.8130327463150024, 0.5555555820465088]"
      ]
     },
     "execution_count": 150,
     "metadata": {},
     "output_type": "execute_result"
    }
   ],
   "source": [
    "model.evaluate(X_train, train_labels)"
   ]
  },
  {
   "cell_type": "code",
   "execution_count": 153,
   "id": "4dbc0978",
   "metadata": {},
   "outputs": [],
   "source": [
    "results=model.predict(X_train)"
   ]
  },
  {
   "cell_type": "code",
   "execution_count": 165,
   "id": "210b1749",
   "metadata": {},
   "outputs": [
    {
     "name": "stdout",
     "output_type": "stream",
     "text": [
      "[0.6536425 0.3463575]  ---  0   one trucker commit stay opt resign compani suspend monday \n",
      "[0.03349584 0.9665042 ]  ---  1   rescu worker florida save dog got stuck deep hole fortun dog reportedli friendli happi see firefight descend hole \n",
      "[0.91887313 0.08112682]  ---  0   california man feder custodi allegedli tri open plane exit door middl crosscountri flight sunday told flight attend go bring plane accord affidavit \n",
      "[0.08304 0.91696]  ---  0   juan remberto riva 50 subdu passeng flight attend zip tie tape face one count assault intimid flight attend \n",
      "[0.1441069 0.8558931]  ---  1   met princ harri caption post love even curtsi track suit \n",
      "[0.1308427  0.86915725]  ---  0   new episod fox nation’ crime stori nanci grace podcast’ host guest attempt unravel chill stori michigan mother told polic cartoon charact spongebob squarep instruct stab kill 3yearold daughter \n",
      "[0.32289636 0.67710364]  ---  0   us presid also warn american economi could suffer disrupt energi suppli sharp price increas like event sanction levi russia respons invas ukrain \n",
      "[0.56194353 0.43805647]  ---  1   win give psg hope head madrid wednesday 9 march get result need keep aliv hope win first champion leagu titl \n",
      "[0.8695415  0.13045847]  ---  0   pj orourk bestsel american satirist columnist polit comment die age 74 \n"
     ]
    }
   ],
   "source": [
    "for i in range(0,len(y_train)):\n",
    "    print(str(i)+\"     \"+str(results[i]) + \"  ---  \" + str(y_train[i])  +\"   \"+ str(df.text[i]))"
   ]
  },
  {
   "cell_type": "code",
   "execution_count": null,
   "id": "c4575870",
   "metadata": {},
   "outputs": [],
   "source": [
    "for i in range(0,len(y_train)):\n",
    "    print(str(i)+\"    \"+str(df.text[i]))"
   ]
  },
  {
   "cell_type": "code",
   "execution_count": null,
   "id": "748b2951",
   "metadata": {},
   "outputs": [],
   "source": [
    "model.predict(X_train)"
   ]
  },
  {
   "cell_type": "code",
   "execution_count": 56,
   "id": "a9f49def",
   "metadata": {},
   "outputs": [
    {
     "data": {
      "text/html": [
       "<div>\n",
       "<style scoped>\n",
       "    .dataframe tbody tr th:only-of-type {\n",
       "        vertical-align: middle;\n",
       "    }\n",
       "\n",
       "    .dataframe tbody tr th {\n",
       "        vertical-align: top;\n",
       "    }\n",
       "\n",
       "    .dataframe thead th {\n",
       "        text-align: right;\n",
       "    }\n",
       "</style>\n",
       "<table border=\"1\" class=\"dataframe\">\n",
       "  <thead>\n",
       "    <tr style=\"text-align: right;\">\n",
       "      <th></th>\n",
       "      <th>sentiment</th>\n",
       "      <th>text</th>\n",
       "    </tr>\n",
       "  </thead>\n",
       "  <tbody>\n",
       "    <tr>\n",
       "      <th>0</th>\n",
       "      <td>0</td>\n",
       "      <td>one commit stay suspend monday</td>\n",
       "    </tr>\n",
       "    <tr>\n",
       "      <th>1</th>\n",
       "      <td>1</td>\n",
       "      <td>worker florida save dog got stuck deep hole do...</td>\n",
       "    </tr>\n",
       "    <tr>\n",
       "      <th>2</th>\n",
       "      <td>0</td>\n",
       "      <td>california man open plane exit door flight sun...</td>\n",
       "    </tr>\n",
       "    <tr>\n",
       "      <th>3</th>\n",
       "      <td>0</td>\n",
       "      <td>50 flight attend zip tie tape face one count a...</td>\n",
       "    </tr>\n",
       "    <tr>\n",
       "      <th>4</th>\n",
       "      <td>1</td>\n",
       "      <td>met post love even track suit</td>\n",
       "    </tr>\n",
       "    <tr>\n",
       "      <th>5</th>\n",
       "      <td>0</td>\n",
       "      <td>new fox crime grace host guest attempt chill m...</td>\n",
       "    </tr>\n",
       "    <tr>\n",
       "      <th>6</th>\n",
       "      <td>0</td>\n",
       "      <td>us also warn american could suffer sharp price...</td>\n",
       "    </tr>\n",
       "  </tbody>\n",
       "</table>\n",
       "</div>"
      ],
      "text/plain": [
       "   sentiment                                               text\n",
       "0          0                    one commit stay suspend monday \n",
       "1          1  worker florida save dog got stuck deep hole do...\n",
       "2          0  california man open plane exit door flight sun...\n",
       "3          0  50 flight attend zip tie tape face one count a...\n",
       "4          1                     met post love even track suit \n",
       "5          0  new fox crime grace host guest attempt chill m...\n",
       "6          0  us also warn american could suffer sharp price..."
      ]
     },
     "execution_count": 56,
     "metadata": {},
     "output_type": "execute_result"
    }
   ],
   "source": [
    "df.head(10)"
   ]
  },
  {
   "cell_type": "code",
   "execution_count": null,
   "id": "440d04ce",
   "metadata": {},
   "outputs": [],
   "source": []
  }
 ],
 "metadata": {
  "kernelspec": {
   "display_name": "Python 3 (ipykernel)",
   "language": "python",
   "name": "python3"
  },
  "language_info": {
   "codemirror_mode": {
    "name": "ipython",
    "version": 3
   },
   "file_extension": ".py",
   "mimetype": "text/x-python",
   "name": "python",
   "nbconvert_exporter": "python",
   "pygments_lexer": "ipython3",
   "version": "3.9.7"
  }
 },
 "nbformat": 4,
 "nbformat_minor": 5
}
