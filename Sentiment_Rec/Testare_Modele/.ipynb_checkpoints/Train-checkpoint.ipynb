{
 "cells": [
  {
   "cell_type": "code",
   "execution_count": 1,
   "id": "edc88acb",
   "metadata": {},
   "outputs": [],
   "source": [
    "import numpy as np\n",
    "import pandas as pd\n",
    "from matplotlib import pyplot as plt\n",
    "plt.style.use('dark_background')\n",
    "from keras.preprocessing.text import Tokenizer\n",
    "from keras.preprocessing.sequence import pad_sequences\n",
    "from sklearn.model_selection import train_test_split\n",
    "from tensorflow.keras.utils import to_categorical\n",
    "from keras.models import Sequential\n",
    "from keras.layers import Dense, Dropout, Embedding, LSTM, GlobalMaxPooling1D, SpatialDropout1D"
   ]
  },
  {
   "cell_type": "code",
   "execution_count": 4,
   "id": "92cab10a",
   "metadata": {},
   "outputs": [],
   "source": [
    "df = pd.read_csv(\"../Datasets/Stem-Cuvinte-Eliminate/train-punct-stop-stem-200.csv\")\n",
    "df=df.dropna()\n",
    "df_poz=df[df['sentiment'] == 2]\n",
    "df_neg=df[df['sentiment'] == 0]\n",
    "\n",
    "#df=df.sample(n=100000)\n",
    "#df=df.drop([\"news_title\",\"url\",\"reddit_title\"],axis=1)\n",
    "df_train=df"
   ]
  },
  {
   "cell_type": "code",
   "execution_count": 6,
   "id": "22ac12d7",
   "metadata": {},
   "outputs": [],
   "source": [
    "df_poz=df_poz.sample(40000)\n",
    "df_neg=df_neg.sample(60000)\n",
    "result = pd.concat([df_poz,df_neg])"
   ]
  },
  {
   "cell_type": "code",
   "execution_count": 7,
   "id": "dac7e473",
   "metadata": {},
   "outputs": [],
   "source": [
    "df_train=result\n",
    "\n"
   ]
  },
  {
   "cell_type": "code",
   "execution_count": 8,
   "id": "4d800952",
   "metadata": {},
   "outputs": [
    {
     "name": "stdout",
     "output_type": "stream",
     "text": [
      "         sentiment                                               text\n",
      "0                2  sound track beauti paint mind well would recom...\n",
      "1                2  im read lot review say best game soundtrack fi...\n",
      "2                2  soundtrack favorit music time hand intens sad ...\n",
      "3                2  truli like soundtrack enjoy video game music p...\n",
      "4                2  youv play game know divin music everi singl so...\n",
      "...            ...                                                ...\n",
      "3199988          0  mr harrison make extrem valid argument book wi...\n",
      "3199989          0  high chair look great first come box hill impo...\n",
      "3199990          0  use highchair 2 kid final decid sell not like ...\n",
      "3199991          0  small hous realli want two high chair twin gre...\n",
      "3199992          0  not sure book suppos realli rehash old idea ca...\n",
      "\n",
      "[3199946 rows x 2 columns]\n"
     ]
    }
   ],
   "source": [
    "print(df)"
   ]
  },
  {
   "cell_type": "code",
   "execution_count": 9,
   "id": "ffc9219a",
   "metadata": {},
   "outputs": [],
   "source": [
    "X_train = df_train['text']"
   ]
  },
  {
   "cell_type": "code",
   "execution_count": 10,
   "id": "3f5f34d4",
   "metadata": {},
   "outputs": [],
   "source": [
    "y_train = df_train['sentiment'].values"
   ]
  },
  {
   "cell_type": "code",
   "execution_count": 11,
   "id": "73b7405c",
   "metadata": {},
   "outputs": [],
   "source": [
    "train_labels=[]\n",
    "for i in range(0,len(y_train)):\n",
    "    train_labels.append([0,0])"
   ]
  },
  {
   "cell_type": "code",
   "execution_count": 12,
   "id": "aad7cf7a",
   "metadata": {},
   "outputs": [],
   "source": [
    "import pickle\n",
    "with open('tokenizer-200-nou.pickle', 'rb') as handle:\n",
    "    tokenizer = pickle.load(handle)"
   ]
  },
  {
   "cell_type": "code",
   "execution_count": 13,
   "id": "a74b63b6",
   "metadata": {},
   "outputs": [],
   "source": [
    "for i in range(0,len(y_train)):\n",
    "    if y_train[i] == 0:\n",
    "        train_labels[i][0]=1\n",
    "    else:\n",
    "        train_labels[i][1]=1"
   ]
  },
  {
   "cell_type": "code",
   "execution_count": 14,
   "id": "e494deeb",
   "metadata": {},
   "outputs": [],
   "source": [
    "X_train = tokenizer.texts_to_sequences(X_train)\n",
    "X_train = pad_sequences(X_train, maxlen = 128)"
   ]
  },
  {
   "cell_type": "code",
   "execution_count": 15,
   "id": "06130f0d",
   "metadata": {},
   "outputs": [
    {
     "name": "stderr",
     "output_type": "stream",
     "text": [
      "2022-02-22 21:44:21.789422: I tensorflow/stream_executor/cuda/cuda_gpu_executor.cc:936] successful NUMA node read from SysFS had negative value (-1), but there must be at least one NUMA node, so returning NUMA node zero\n"
     ]
    },
    {
     "name": "stdout",
     "output_type": "stream",
     "text": [
      "WARNING:tensorflow:Layer lstm will not use cuDNN kernels since it doesn't meet the criteria. It will use a generic GPU kernel as fallback when running on GPU.\n"
     ]
    },
    {
     "name": "stderr",
     "output_type": "stream",
     "text": [
      "2022-02-22 21:44:21.797872: I tensorflow/stream_executor/cuda/cuda_gpu_executor.cc:936] successful NUMA node read from SysFS had negative value (-1), but there must be at least one NUMA node, so returning NUMA node zero\n",
      "2022-02-22 21:44:21.798491: I tensorflow/stream_executor/cuda/cuda_gpu_executor.cc:936] successful NUMA node read from SysFS had negative value (-1), but there must be at least one NUMA node, so returning NUMA node zero\n",
      "2022-02-22 21:44:21.799947: I tensorflow/core/platform/cpu_feature_guard.cc:151] This TensorFlow binary is optimized with oneAPI Deep Neural Network Library (oneDNN) to use the following CPU instructions in performance-critical operations:  AVX2 FMA\n",
      "To enable them in other operations, rebuild TensorFlow with the appropriate compiler flags.\n",
      "2022-02-22 21:44:21.800749: I tensorflow/stream_executor/cuda/cuda_gpu_executor.cc:936] successful NUMA node read from SysFS had negative value (-1), but there must be at least one NUMA node, so returning NUMA node zero\n",
      "2022-02-22 21:44:21.801383: I tensorflow/stream_executor/cuda/cuda_gpu_executor.cc:936] successful NUMA node read from SysFS had negative value (-1), but there must be at least one NUMA node, so returning NUMA node zero\n",
      "2022-02-22 21:44:21.802015: I tensorflow/stream_executor/cuda/cuda_gpu_executor.cc:936] successful NUMA node read from SysFS had negative value (-1), but there must be at least one NUMA node, so returning NUMA node zero\n",
      "2022-02-22 21:44:22.175966: I tensorflow/stream_executor/cuda/cuda_gpu_executor.cc:936] successful NUMA node read from SysFS had negative value (-1), but there must be at least one NUMA node, so returning NUMA node zero\n",
      "2022-02-22 21:44:22.176286: I tensorflow/stream_executor/cuda/cuda_gpu_executor.cc:936] successful NUMA node read from SysFS had negative value (-1), but there must be at least one NUMA node, so returning NUMA node zero\n",
      "2022-02-22 21:44:22.176530: I tensorflow/stream_executor/cuda/cuda_gpu_executor.cc:936] successful NUMA node read from SysFS had negative value (-1), but there must be at least one NUMA node, so returning NUMA node zero\n",
      "2022-02-22 21:44:22.176757: I tensorflow/core/common_runtime/gpu/gpu_device.cc:1525] Created device /job:localhost/replica:0/task:0/device:GPU:0 with 3368 MB memory:  -> device: 0, name: NVIDIA GeForce GTX 1050 Ti, pci bus id: 0000:01:00.0, compute capability: 6.1\n"
     ]
    }
   ],
   "source": [
    "from tensorflow import keras\n",
    "model = keras.models.load_model('./Model-200-drop30/')\n"
   ]
  },
  {
   "cell_type": "code",
   "execution_count": 16,
   "id": "e9929df8",
   "metadata": {},
   "outputs": [
    {
     "name": "stdout",
     "output_type": "stream",
     "text": [
      "[   0    0    0    0    0    0    0    0    0    0    0    0    0    0\n",
      "    0    0    0    0    0    0    0    0    0    0    0    0    0    0\n",
      "    0    0    0    0    0    0    0    0    0    0    0    0    0    0\n",
      "    0    0    0    0    0    0    0    0    0    0    0    0    0    0\n",
      "    0    0    0    0    0    0    0    0    0    0    0    0    0    0\n",
      "    0    0    0    0    0   24  190  189   15   78   61  173   34 2612\n",
      " 3467 4151  255   34  316    3 1632  187 1155  364 2741  114   11   51\n",
      "   84  778   84   50  862   34 1131  572  123 1603 1298  891 5382  184\n",
      "    2  212  115  373  673  482  272  158   16   41   37   41   64  463\n",
      "  463  158]\n",
      "[0 1]\n"
     ]
    }
   ],
   "source": [
    "train_labels=np.array(train_labels)\n",
    "print(X_train[0])\n",
    "print(train_labels[0])"
   ]
  },
  {
   "cell_type": "code",
   "execution_count": 17,
   "id": "485edaf3",
   "metadata": {},
   "outputs": [
    {
     "name": "stdout",
     "output_type": "stream",
     "text": [
      "Epoch 1/2\n",
      "352/352 [==============================] - 126s 350ms/step - loss: 0.2173 - accuracy: 0.9139 - val_loss: 0.1855 - val_accuracy: 0.9308\n",
      "Epoch 2/2\n",
      "352/352 [==============================] - 160s 456ms/step - loss: 0.1739 - accuracy: 0.9338 - val_loss: 0.1950 - val_accuracy: 0.9212\n"
     ]
    }
   ],
   "source": [
    "history = model.fit(\n",
    "    X_train,\n",
    "    train_labels,\n",
    "    validation_split = 0.1,\n",
    "    epochs = 2,\n",
    "    batch_size = 256\n",
    ")"
   ]
  },
  {
   "cell_type": "code",
   "execution_count": 18,
   "id": "e56ed96a",
   "metadata": {},
   "outputs": [
    {
     "name": "stderr",
     "output_type": "stream",
     "text": [
      "2022-02-22 21:49:24.704820: W tensorflow/python/util/util.cc:368] Sets are not currently considered sequences, but this may change in the future, so consider avoiding using them.\n"
     ]
    },
    {
     "name": "stdout",
     "output_type": "stream",
     "text": [
      "INFO:tensorflow:Assets written to: ./Model-200--drop30-perf/assets\n"
     ]
    },
    {
     "name": "stderr",
     "output_type": "stream",
     "text": [
      "WARNING:absl:<keras.layers.recurrent.LSTMCell object at 0x7fbb1c72ca30> has the same name 'LSTMCell' as a built-in Keras object. Consider renaming <class 'keras.layers.recurrent.LSTMCell'> to avoid naming conflicts when loading with `tf.keras.models.load_model`. If renaming is not possible, pass the object in the `custom_objects` parameter of the load function.\n"
     ]
    }
   ],
   "source": [
    "model.save('./Model-200--drop30-perf/')"
   ]
  },
  {
   "cell_type": "code",
   "execution_count": null,
   "id": "3460e887",
   "metadata": {},
   "outputs": [],
   "source": []
  }
 ],
 "metadata": {
  "kernelspec": {
   "display_name": "Python 3 (ipykernel)",
   "language": "python",
   "name": "python3"
  },
  "language_info": {
   "codemirror_mode": {
    "name": "ipython",
    "version": 3
   },
   "file_extension": ".py",
   "mimetype": "text/x-python",
   "name": "python",
   "nbconvert_exporter": "python",
   "pygments_lexer": "ipython3",
   "version": "3.9.7"
  }
 },
 "nbformat": 4,
 "nbformat_minor": 5
}
