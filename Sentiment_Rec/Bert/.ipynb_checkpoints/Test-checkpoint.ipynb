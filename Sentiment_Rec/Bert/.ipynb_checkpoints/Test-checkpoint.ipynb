{
 "cells": [
  {
   "cell_type": "code",
   "execution_count": 1,
   "id": "c37ec594",
   "metadata": {},
   "outputs": [],
   "source": [
    "import pandas as pd\n",
    "import numpy as np\n",
    "import matplotlib.pyplot as plt\n",
    "from sklearn.model_selection import train_test_split\n",
    "from sklearn import metrics\n",
    "from tqdm import tqdm\n",
    "\n",
    "import torch\n",
    "import torch.nn.functional as F\n",
    "import torch.nn as nn\n",
    "\n",
    "from transformers import AutoTokenizer, DistilBertModel\n",
    "from transformers import AdamW\n"
   ]
  },
  {
   "cell_type": "code",
   "execution_count": 2,
   "id": "dd2ac3b0",
   "metadata": {},
   "outputs": [],
   "source": [
    "df = pd.read_csv(\"../Datasets/Cuvinte-Eliminate/test-punct-stop-1000.csv\")\n",
    "df=df.dropna()\n",
    "df=df.sample(10000)"
   ]
  },
  {
   "cell_type": "code",
   "execution_count": 3,
   "id": "f47504fa",
   "metadata": {},
   "outputs": [
    {
     "name": "stdout",
     "output_type": "stream",
     "text": [
      "NVIDIA GeForce GTX 1050 Ti\n"
     ]
    }
   ],
   "source": [
    "device = torch.device(\"cuda\") if torch.cuda.is_available() else torch.device(\"cpu\")\n",
    "if torch.cuda.is_available():\n",
    "  for i in range(torch.cuda.device_count()):\n",
    "    print(torch.cuda.get_device_name(i))\n",
    "else:\n",
    "  print(\"You are running on CPU\")"
   ]
  },
  {
   "cell_type": "code",
   "execution_count": 4,
   "id": "dcc3ea5e",
   "metadata": {},
   "outputs": [],
   "source": [
    "df['sentiment'] = df['sentiment'].replace(2,1)"
   ]
  },
  {
   "cell_type": "code",
   "execution_count": 5,
   "id": "ba062b3c",
   "metadata": {},
   "outputs": [],
   "source": [
    "tokenizer = AutoTokenizer.from_pretrained('distilbert-base-uncased')\n",
    "def tokenize_function(example):\n",
    "    tok = tokenizer(example, padding=\"max_length\", truncation=True)\n",
    "    return tok['input_ids'], tok['attention_mask']\n",
    "    \n",
    "df['input_ids'], df['attention_mask'] = zip(*df['text'].map(tokenize_function))\n"
   ]
  },
  {
   "cell_type": "code",
   "execution_count": 6,
   "id": "1c6d5c73",
   "metadata": {},
   "outputs": [
    {
     "data": {
      "text/html": [
       "<div>\n",
       "<style scoped>\n",
       "    .dataframe tbody tr th:only-of-type {\n",
       "        vertical-align: middle;\n",
       "    }\n",
       "\n",
       "    .dataframe tbody tr th {\n",
       "        vertical-align: top;\n",
       "    }\n",
       "\n",
       "    .dataframe thead th {\n",
       "        text-align: right;\n",
       "    }\n",
       "</style>\n",
       "<table border=\"1\" class=\"dataframe\">\n",
       "  <thead>\n",
       "    <tr style=\"text-align: right;\">\n",
       "      <th></th>\n",
       "      <th>sentiment</th>\n",
       "      <th>text</th>\n",
       "      <th>input_ids</th>\n",
       "      <th>attention_mask</th>\n",
       "    </tr>\n",
       "  </thead>\n",
       "  <tbody>\n",
       "    <tr>\n",
       "      <th>396472</th>\n",
       "      <td>0</td>\n",
       "      <td>bought light set received not chrome color pic...</td>\n",
       "      <td>[101, 4149, 2422, 2275, 2363, 2025, 18546, 360...</td>\n",
       "      <td>[1, 1, 1, 1, 1, 1, 1, 1, 1, 1, 1, 1, 1, 1, 1, ...</td>\n",
       "    </tr>\n",
       "    <tr>\n",
       "      <th>97031</th>\n",
       "      <td>1</td>\n",
       "      <td>reading book simple yet educational really gav...</td>\n",
       "      <td>[101, 3752, 2338, 3722, 2664, 4547, 2428, 2435...</td>\n",
       "      <td>[1, 1, 1, 1, 1, 1, 1, 1, 1, 1, 1, 1, 1, 1, 1, ...</td>\n",
       "    </tr>\n",
       "    <tr>\n",
       "      <th>386464</th>\n",
       "      <td>1</td>\n",
       "      <td>hotel california smart action movie pay attent...</td>\n",
       "      <td>[101, 3309, 2662, 6047, 2895, 3185, 3477, 3086...</td>\n",
       "      <td>[1, 1, 1, 1, 1, 1, 1, 1, 1, 1, 1, 1, 1, 1, 1, ...</td>\n",
       "    </tr>\n",
       "    <tr>\n",
       "      <th>85078</th>\n",
       "      <td>1</td>\n",
       "      <td>bought gate toddler son figured cheap wood dog...</td>\n",
       "      <td>[101, 4149, 4796, 6927, 3917, 2365, 6618, 1003...</td>\n",
       "      <td>[1, 1, 1, 1, 1, 1, 1, 1, 1, 1, 1, 1, 1, 1, 1, ...</td>\n",
       "    </tr>\n",
       "    <tr>\n",
       "      <th>269235</th>\n",
       "      <td>0</td>\n",
       "      <td>bought ram first built computer ago upgraded w...</td>\n",
       "      <td>[101, 4149, 8223, 2034, 2328, 3274, 3283, 9725...</td>\n",
       "      <td>[1, 1, 1, 1, 1, 1, 1, 1, 1, 1, 1, 1, 1, 1, 1, ...</td>\n",
       "    </tr>\n",
       "  </tbody>\n",
       "</table>\n",
       "</div>"
      ],
      "text/plain": [
       "        sentiment                                               text  \\\n",
       "396472          0  bought light set received not chrome color pic...   \n",
       "97031           1  reading book simple yet educational really gav...   \n",
       "386464          1  hotel california smart action movie pay attent...   \n",
       "85078           1  bought gate toddler son figured cheap wood dog...   \n",
       "269235          0  bought ram first built computer ago upgraded w...   \n",
       "\n",
       "                                                input_ids  \\\n",
       "396472  [101, 4149, 2422, 2275, 2363, 2025, 18546, 360...   \n",
       "97031   [101, 3752, 2338, 3722, 2664, 4547, 2428, 2435...   \n",
       "386464  [101, 3309, 2662, 6047, 2895, 3185, 3477, 3086...   \n",
       "85078   [101, 4149, 4796, 6927, 3917, 2365, 6618, 1003...   \n",
       "269235  [101, 4149, 8223, 2034, 2328, 3274, 3283, 9725...   \n",
       "\n",
       "                                           attention_mask  \n",
       "396472  [1, 1, 1, 1, 1, 1, 1, 1, 1, 1, 1, 1, 1, 1, 1, ...  \n",
       "97031   [1, 1, 1, 1, 1, 1, 1, 1, 1, 1, 1, 1, 1, 1, 1, ...  \n",
       "386464  [1, 1, 1, 1, 1, 1, 1, 1, 1, 1, 1, 1, 1, 1, 1, ...  \n",
       "85078   [1, 1, 1, 1, 1, 1, 1, 1, 1, 1, 1, 1, 1, 1, 1, ...  \n",
       "269235  [1, 1, 1, 1, 1, 1, 1, 1, 1, 1, 1, 1, 1, 1, 1, ...  "
      ]
     },
     "execution_count": 6,
     "metadata": {},
     "output_type": "execute_result"
    }
   ],
   "source": [
    "df.head()"
   ]
  },
  {
   "cell_type": "code",
   "execution_count": 7,
   "id": "21ebe6c1",
   "metadata": {},
   "outputs": [],
   "source": [
    "class Dataset(torch.utils.data.Dataset):\n",
    "    def __init__(self, dataframe):\n",
    "        self.df = dataframe\n",
    "\n",
    "    def __len__(self):\n",
    "        return len(self.df)\n",
    "\n",
    "    def __getitem__(self, idx):\n",
    "        item = self.df.iloc[idx]\n",
    "        return {\n",
    "            'input_ids' : torch.tensor(item['input_ids']).to(device),\n",
    "            'attention_mask' : torch.tensor(item['attention_mask']).to(device),\n",
    "            'labels' : torch.tensor(item['sentiment']).to(device)\n",
    "        }\n",
    "test_set = Dataset(df)"
   ]
  },
  {
   "cell_type": "code",
   "execution_count": 8,
   "id": "f1bcc912",
   "metadata": {},
   "outputs": [],
   "source": [
    "def evaluate(model):\n",
    "  # Pregatim o modalitate de stocare a datelor pentru evaluare\n",
    "  eval_outputs = []\n",
    "  true_labels = []\n",
    "  # Trecem modelul in modul train\n",
    "  model.eval()\n",
    "\n",
    "  ########### Evaluation Loop #############\n",
    "  with torch.no_grad():\n",
    "      for batch in tqdm(test_loader, total=len(test_loader)):\n",
    "          outputs = model(input_ids=batch['input_ids'], attention_mask=batch['attention_mask'])\n",
    "\n",
    "          outputs = outputs.cpu() ## copy-ing the outputs from CUDA to CPU\n",
    "          outputs = np.argmax(outputs, axis=1)\n",
    "\n",
    "          eval_outputs += outputs.tolist()\n",
    "          true_labels += batch['labels'].tolist()\n",
    "\n",
    "  #acc = metrics.accuracy_score(true_labels, eval_outputs)\n",
    "  f1 = metrics.f1_score(true_labels, eval_outputs)\n",
    "  print(\"F1: {}\".format(f1) , end =\" \")"
   ]
  },
  {
   "cell_type": "code",
   "execution_count": 9,
   "id": "a0aa2c07",
   "metadata": {},
   "outputs": [
    {
     "name": "stderr",
     "output_type": "stream",
     "text": [
      "Some weights of the model checkpoint at distilbert-base-uncased were not used when initializing DistilBertModel: ['vocab_projector.weight', 'vocab_projector.bias', 'vocab_transform.weight', 'vocab_layer_norm.bias', 'vocab_layer_norm.weight', 'vocab_transform.bias']\n",
      "- This IS expected if you are initializing DistilBertModel from the checkpoint of a model trained on another task or with another architecture (e.g. initializing a BertForSequenceClassification model from a BertForPreTraining model).\n",
      "- This IS NOT expected if you are initializing DistilBertModel from the checkpoint of a model that you expect to be exactly identical (initializing a BertForSequenceClassification model from a BertForSequenceClassification model).\n"
     ]
    }
   ],
   "source": [
    "class Classifier(nn.Module):\n",
    "    def __init__(self, out_feat=2):\n",
    "        super().__init__()\n",
    "        self.bert = DistilBertModel.from_pretrained('distilbert-base-uncased')\n",
    "        self.cls = nn.Linear(768, out_feat)\n",
    "\n",
    "    def forward(self, input_ids, attention_mask):\n",
    "        outputs = self.bert(\n",
    "            input_ids,\n",
    "            attention_mask=attention_mask,\n",
    "        )\n",
    " \n",
    "        pooled_output = outputs.last_hidden_state[:,0,:] #[batch_dim, token_dim, ...] [CLS]\n",
    "        logits = self.cls(pooled_output)\n",
    "        return F.softmax(logits, dim=1)\n",
    "\n",
    "    def freeze_until_layer(self, n):\n",
    "      for name, param in self.named_parameters():\n",
    "        if str(n) in name:\n",
    "          break\n",
    "\n",
    "        param.requires_grad = False\n",
    "        \n",
    "    def print_layers(self):\n",
    "      total_nr_w = 0\n",
    "      trainable_nr_w = 0\n",
    "      for name, param in self.named_parameters():\n",
    "        nr_w = np.prod(param.size())\n",
    "        total_nr_w += nr_w\n",
    "        if param.requires_grad:\n",
    "          trainable_nr_w += nr_w\n",
    "        print('{}\\t{}\\t\\t\\t{}'.format(param.requires_grad, nr_w ,name))\n",
    "      print('The network has {} parameters, out of which {} ({:.1f}%) are trainable.'.format(total_nr_w, trainable_nr_w, trainable_nr_w / total_nr_w * 100))\n",
    "\n",
    "model = Classifier(2)"
   ]
  },
  {
   "cell_type": "code",
   "execution_count": 10,
   "id": "99c400b9",
   "metadata": {},
   "outputs": [],
   "source": [
    "model=torch.load(\"classfication_model.pt\")"
   ]
  },
  {
   "cell_type": "code",
   "execution_count": 11,
   "id": "51d1a9a4",
   "metadata": {},
   "outputs": [],
   "source": [
    "test_loader = torch.utils.data.DataLoader(test_set, batch_size=32, shuffle=False)\n"
   ]
  },
  {
   "cell_type": "code",
   "execution_count": null,
   "id": "3ab7dc78",
   "metadata": {},
   "outputs": [
    {
     "name": "stderr",
     "output_type": "stream",
     "text": [
      " 23%|█████████▊                                | 73/313 [01:26<04:55,  1.23s/it]"
     ]
    }
   ],
   "source": [
    "evaluate(model)"
   ]
  },
  {
   "cell_type": "code",
   "execution_count": null,
   "id": "d233636b",
   "metadata": {},
   "outputs": [],
   "source": []
  }
 ],
 "metadata": {
  "kernelspec": {
   "display_name": "Python 3 (ipykernel)",
   "language": "python",
   "name": "python3"
  },
  "language_info": {
   "codemirror_mode": {
    "name": "ipython",
    "version": 3
   },
   "file_extension": ".py",
   "mimetype": "text/x-python",
   "name": "python",
   "nbconvert_exporter": "python",
   "pygments_lexer": "ipython3",
   "version": "3.9.7"
  }
 },
 "nbformat": 4,
 "nbformat_minor": 5
}
