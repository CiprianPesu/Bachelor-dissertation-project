{
 "cells": [
  {
   "cell_type": "code",
   "execution_count": 1,
   "id": "222e4d5f",
   "metadata": {},
   "outputs": [],
   "source": [
    "import numpy as np\n",
    "import tensorflow as tf\n",
    "from tensorflow import keras\n",
    "import pandas as pd\n",
    "from tqdm import tqdm\n",
    "from pandas.plotting import register_matplotlib_converters\n",
    "from sklearn.model_selection import train_test_split\n",
    "import tensorflow_hub as hub\n",
    "from wordcloud import WordCloud, STOPWORDS, ImageColorGenerator\n",
    "import tensorflow_text\n",
    "import spacy\n",
    "import numpy\n",
    "from matplotlib import pyplot as plt"
   ]
  },
  {
   "cell_type": "code",
   "execution_count": 2,
   "id": "ef0d75c7",
   "metadata": {},
   "outputs": [],
   "source": [
    "df = pd.read_csv(\"../Datasets/Stem-Cuvinte-Eliminate/train-punct-stop-stem-200.csv\",)\n",
    "df=df.sample(n=50000)\n",
    "#df=df.drop([\"Unnamed: 0\"],axis=1)\n"
   ]
  },
  {
   "cell_type": "code",
   "execution_count": 3,
   "id": "7acf679f",
   "metadata": {},
   "outputs": [
    {
     "data": {
      "text/plain": [
       "sentiment    49998\n",
       "text         49998\n",
       "dtype: int64"
      ]
     },
     "execution_count": 3,
     "metadata": {},
     "output_type": "execute_result"
    }
   ],
   "source": [
    "df.head()\n",
    "df=df.dropna()\n",
    "df.count()"
   ]
  },
  {
   "cell_type": "code",
   "execution_count": 4,
   "id": "2b87b37b",
   "metadata": {},
   "outputs": [],
   "source": [
    "texts=df[\"text\"]\n",
    "nlp = spacy.load(\"en_core_web_sm\")"
   ]
  },
  {
   "cell_type": "code",
   "execution_count": 5,
   "id": "32c4d932",
   "metadata": {},
   "outputs": [
    {
     "name": "stdout",
     "output_type": "stream",
     "text": [
      "910573     first md player ive look year mainli interst u...\n",
      "2022410    read review see review web site david rose agr...\n",
      "233391     highli underr film requir view high school uni...\n",
      "380934     busi book found joy read use tool someth bring...\n",
      "1075536    movi great children adult alik 5 year old gran...\n",
      "                                 ...                        \n",
      "1428939    ive use vehicl current 2007 camri chrome trim ...\n",
      "1265298    kid realli want eleph christma got love play v...\n",
      "3154003    want hamper long time go son jungl nurseri fin...\n",
      "1143164    wonder hear materi younger father bunch bill c...\n",
      "1116932    first becam tea local save box came home look ...\n",
      "Name: text, Length: 49998, dtype: object\n"
     ]
    }
   ],
   "source": [
    "print(texts)"
   ]
  },
  {
   "cell_type": "code",
   "execution_count": null,
   "id": "2fb5e72d",
   "metadata": {},
   "outputs": [],
   "source": [
    "tokenized_texts=[]\n",
    "for text in texts:\n",
    "    doc=nlp(text)\n",
    "    filtered_tokens = [token for token in doc]\n",
    "    tokenized_texts.append(filtered_tokens)"
   ]
  },
  {
   "cell_type": "code",
   "execution_count": null,
   "id": "a105498f",
   "metadata": {},
   "outputs": [],
   "source": [
    "tokenized_texts"
   ]
  },
  {
   "cell_type": "code",
   "execution_count": null,
   "id": "092ce367",
   "metadata": {},
   "outputs": [],
   "source": [
    "max=0\n",
    "for text in tokenized_texts:\n",
    "    if len(text)>max:\n",
    "        max=len(text)\n",
    "print(max)"
   ]
  },
  {
   "cell_type": "code",
   "execution_count": null,
   "id": "181fcf7a",
   "metadata": {},
   "outputs": [],
   "source": [
    "max=128\n",
    "expanded_tokenized_texts=[]\n",
    "for text in tokenized_texts:\n",
    "    text=text[:max] + [nlp(\"null\")]*(max - len(text))\n",
    "    expanded_tokenized_texts.append(text)"
   ]
  },
  {
   "cell_type": "code",
   "execution_count": null,
   "id": "72d61f59",
   "metadata": {},
   "outputs": [],
   "source": [
    "normalized_texts=[]\n",
    "for text in  expanded_tokenized_texts:\n",
    "    vectors=[]\n",
    "    for word in text:\n",
    "        vectors.append((numpy.array(word.vector)))\n",
    "    normalized_texts.append(numpy.array(vectors))"
   ]
  },
  {
   "cell_type": "code",
   "execution_count": null,
   "id": "9287857b",
   "metadata": {},
   "outputs": [],
   "source": [
    "print(numpy.array(normalized_texts).shape)\n",
    "\n",
    "#df=df.drop([\"Un"
   ]
  },
  {
   "cell_type": "code",
   "execution_count": null,
   "id": "eb429136",
   "metadata": {},
   "outputs": [],
   "source": [
    "from sklearn.preprocessing import OneHotEncoder\n",
    "\n",
    "type_one_hot = OneHotEncoder(sparse=False).fit_transform(\n",
    "  df.sentiment.to_numpy().reshape(-1, 1)\n",
    ")"
   ]
  },
  {
   "cell_type": "code",
   "execution_count": null,
   "id": "0920cb95",
   "metadata": {},
   "outputs": [],
   "source": [
    "RANDOM_SEED = 42\n",
    "np.random.seed(RANDOM_SEED)\n",
    "train_news, test_news, y_train, y_test =\\\n",
    "  train_test_split(\n",
    "    normalized_texts, \n",
    "    type_one_hot, \n",
    "    test_size=.1, \n",
    "    random_state=RANDOM_SEED\n",
    "  )"
   ]
  },
  {
   "cell_type": "code",
   "execution_count": null,
   "id": "27e7bb36",
   "metadata": {},
   "outputs": [],
   "source": [
    "train_news=np.array(train_news)\n",
    "test_news=np.array(test_news)\n",
    "y_train=np.array(y_train)\n",
    "y_test=np.array(y_test)\n"
   ]
  },
  {
   "cell_type": "code",
   "execution_count": null,
   "id": "10fc2b74",
   "metadata": {},
   "outputs": [],
   "source": [
    "print(train_news[1].shape)\n",
    "print(test_news.shape)\n",
    "print(y_train.shape)\n",
    "print(y_test.shape)"
   ]
  },
  {
   "cell_type": "code",
   "execution_count": null,
   "id": "f40710f1",
   "metadata": {},
   "outputs": [],
   "source": [
    "print(train_news.shape)"
   ]
  },
  {
   "cell_type": "code",
   "execution_count": null,
   "id": "cfa912ed",
   "metadata": {},
   "outputs": [],
   "source": [
    "model = keras.Sequential()\n",
    "\n",
    "model.add(\n",
    "  keras.layers.Dense(\n",
    "    units=128,\n",
    "    input_shape=(train_news[1].shape[0],train_news[1].shape[1]),\n",
    "    activation='relu'\n",
    "  )\n",
    ")\n",
    "model.add(\n",
    "  keras.layers.Dropout(rate=0.5)\n",
    ")\n",
    "\n",
    "model.add(keras.layers.GlobalMaxPool1D())\n",
    "\n",
    "model.add(\n",
    "  keras.layers.Dense(\n",
    "    units=32,\n",
    "    activation='relu'\n",
    "  )\n",
    ")\n",
    "model.add(\n",
    "  keras.layers.Dropout(rate=0.5)\n",
    ")\n",
    "model.add(keras.layers.Flatten())\n",
    "model.add(keras.layers.Dense(2, activation='softmax'))\n",
    "model.compile(\n",
    "    loss='categorical_crossentropy', \n",
    "    optimizer=keras.optimizers.Adam(0.001),\n",
    "    metrics=['accuracy']\n",
    ")"
   ]
  },
  {
   "cell_type": "code",
   "execution_count": null,
   "id": "b2b0b28e",
   "metadata": {},
   "outputs": [],
   "source": [
    "model.summary()"
   ]
  },
  {
   "cell_type": "code",
   "execution_count": null,
   "id": "e1bfe533",
   "metadata": {},
   "outputs": [],
   "source": [
    "history = model.fit(\n",
    "    train_news, y_train, \n",
    "    epochs=3, \n",
    "    batch_size=32, \n",
    "    validation_split=0.1,\n",
    "    verbose=1, \n",
    "    shuffle=True\n",
    ")"
   ]
  },
  {
   "cell_type": "code",
   "execution_count": null,
   "id": "18e25a25",
   "metadata": {},
   "outputs": [],
   "source": [
    "plt.plot(history.history['loss'], label='train loss'),\n",
    "plt.plot(history.history['val_loss'], label='val loss'),\n",
    "plt.xlabel(\"epoch\")\n",
    "plt.ylabel(\"Cross-entropy loss\"),"
   ]
  },
  {
   "cell_type": "code",
   "execution_count": null,
   "id": "60379d9a",
   "metadata": {},
   "outputs": [],
   "source": [
    "    plt.plot(history.history['accuracy'], label='train accuracy'),\n",
    "    plt.plot(history.history['val_accuracy'], label='val accuracy'),\n",
    "    plt.xlabel(\"epoch\"),\n",
    "    plt.ylabel(\"accuracy\"),\n",
    "    plt.legend();"
   ]
  },
  {
   "cell_type": "code",
   "execution_count": null,
   "id": "4ee27c82",
   "metadata": {},
   "outputs": [],
   "source": [
    "model.evaluate(test_news, y_test)"
   ]
  },
  {
   "cell_type": "code",
   "execution_count": null,
   "id": "3f9ca0cd",
   "metadata": {},
   "outputs": [],
   "source": [
    "model.save('./Model-200-Dense/')"
   ]
  },
  {
   "cell_type": "code",
   "execution_count": null,
   "id": "9b25133d",
   "metadata": {},
   "outputs": [],
   "source": []
  },
  {
   "cell_type": "code",
   "execution_count": null,
   "id": "8e47f9d1",
   "metadata": {},
   "outputs": [],
   "source": []
  }
 ],
 "metadata": {
  "kernelspec": {
   "display_name": "Python 3 (ipykernel)",
   "language": "python",
   "name": "python3"
  },
  "language_info": {
   "codemirror_mode": {
    "name": "ipython",
    "version": 3
   },
   "file_extension": ".py",
   "mimetype": "text/x-python",
   "name": "python",
   "nbconvert_exporter": "python",
   "pygments_lexer": "ipython3",
   "version": "3.9.7"
  }
 },
 "nbformat": 4,
 "nbformat_minor": 5
}
