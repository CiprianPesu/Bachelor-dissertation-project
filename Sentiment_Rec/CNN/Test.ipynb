{
 "cells": [
  {
   "cell_type": "code",
   "execution_count": 1,
   "id": "0ceac47a",
   "metadata": {},
   "outputs": [],
   "source": [
    "import numpy as np\n",
    "import tensorflow as tf\n",
    "from tensorflow import keras\n",
    "import pandas as pd\n",
    "import seaborn as sns\n",
    "from pylab import rcParams\n",
    "from tqdm import tqdm\n",
    "import matplotlib.pyplot as plt\n",
    "from matplotlib import rc\n",
    "from pandas.plotting import register_matplotlib_converters\n",
    "from sklearn.model_selection import train_test_split\n",
    "import tensorflow_hub as hub\n",
    "from wordcloud import WordCloud, STOPWORDS, ImageColorGenerator\n",
    "import tensorflow_text\n",
    "import spacy\n",
    "import numpy"
   ]
  },
  {
   "cell_type": "code",
   "execution_count": 2,
   "id": "5b637248",
   "metadata": {},
   "outputs": [],
   "source": [
    "header_list=[\"sentiment\",\"text\"]\n",
    "df = pd.read_csv(\"test.csv\",names=header_list)\n",
    "df=df.sample(n=10000)\n",
    "#df=df.drop([\"news_title\",\"url\",\"reddit_title\"],axis=1)"
   ]
  },
  {
   "cell_type": "code",
   "execution_count": 3,
   "id": "15a93490",
   "metadata": {},
   "outputs": [
    {
     "name": "stdout",
     "output_type": "stream",
     "text": [
      "        sentiment                                               text\n",
      "248020          1  Gorgeous book! Am a fan of Mr. Kylloe's books ...\n",
      "132369          1  These pearls have been good in the past for us...\n",
      "360023          1  I saw this at a theater a week or two ago, at ...\n",
      "46193           0  After reading the book myself, I would not sen...\n",
      "91200           1  I am as always impressed with the sound and or...\n",
      "...           ...                                                ...\n",
      "27853           1  A slightly screwy love affair, between a man, ...\n",
      "36479           0  I bought this ebook for my son to use on my ki...\n",
      "273994          1  I love its features: The analog, the digital, ...\n",
      "63556           0  ITS ALBUM THAT DOES NOT FEATURE MADONNAI BOUGH...\n",
      "14198           1  A few friends bought the 600 when it first cam...\n",
      "\n",
      "[10000 rows x 2 columns]\n"
     ]
    }
   ],
   "source": [
    "print(df)"
   ]
  },
  {
   "cell_type": "code",
   "execution_count": 4,
   "id": "69e24129",
   "metadata": {},
   "outputs": [
    {
     "name": "stdout",
     "output_type": "stream",
     "text": [
      "248020    Gorgeous book! Am a fan of Mr. Kylloe's books ...\n",
      "132369    These pearls have been good in the past for us...\n",
      "360023    I saw this at a theater a week or two ago, at ...\n",
      "46193     After reading the book myself, I would not sen...\n",
      "91200     I am as always impressed with the sound and or...\n",
      "                                ...                        \n",
      "27853     A slightly screwy love affair, between a man, ...\n",
      "36479     I bought this ebook for my son to use on my ki...\n",
      "273994    I love its features: The analog, the digital, ...\n",
      "63556     ITS ALBUM THAT DOES NOT FEATURE MADONNAI BOUGH...\n",
      "14198     A few friends bought the 600 when it first cam...\n",
      "Name: text, Length: 10000, dtype: object\n"
     ]
    }
   ],
   "source": [
    "texts=df[\"text\"]\n",
    "print(texts)\n",
    "nlp = spacy.load(\"en_core_web_sm\")"
   ]
  },
  {
   "cell_type": "code",
   "execution_count": 5,
   "id": "b354bcfd",
   "metadata": {},
   "outputs": [],
   "source": [
    "tokenized_texts=[]\n",
    "for text in texts:\n",
    "    doc=nlp(text)\n",
    "    filtered_tokens = [token for token in doc if not token.is_stop if not token.is_punct]\n",
    "    tokenized_texts.append(filtered_tokens)"
   ]
  },
  {
   "cell_type": "code",
   "execution_count": 6,
   "id": "e4a56d7a",
   "metadata": {},
   "outputs": [
    {
     "name": "stdout",
     "output_type": "stream",
     "text": [
      "[pearls, good, past, use, tapioca, pudding, goes, fast, house, easy, soak, simple, use, problem, recipe, calls, egg, manner, find, gets, chickeny, smelling, tapioca, pudding, finished, product, finally, cold, suggest, looking, tapioca, pudding, recipe]\n"
     ]
    }
   ],
   "source": [
    "print(tokenized_texts[1])"
   ]
  },
  {
   "cell_type": "code",
   "execution_count": 7,
   "id": "2d7aff44",
   "metadata": {},
   "outputs": [
    {
     "name": "stdout",
     "output_type": "stream",
     "text": [
      "128\n"
     ]
    }
   ],
   "source": [
    "max=0\n",
    "for text in tokenized_texts:\n",
    "    if len(text)>max:\n",
    "        max=len(text)\n",
    "print(max)"
   ]
  },
  {
   "cell_type": "code",
   "execution_count": 8,
   "id": "8b639817",
   "metadata": {},
   "outputs": [],
   "source": [
    "max=256\n",
    "expanded_tokenized_texts=[]\n",
    "for text in tokenized_texts:\n",
    "    text=text[:max] + [nlp(\"null\")]*(max - len(text))\n",
    "    expanded_tokenized_texts.append(text)"
   ]
  },
  {
   "cell_type": "code",
   "execution_count": 9,
   "id": "ceb2d9ed",
   "metadata": {},
   "outputs": [],
   "source": [
    "from sklearn.preprocessing import OneHotEncoder\n",
    "\n",
    "type_one_hot = OneHotEncoder(sparse=False).fit_transform(\n",
    "  df.sentiment.to_numpy().reshape(-1, 1)\n",
    ")"
   ]
  },
  {
   "cell_type": "code",
   "execution_count": 10,
   "id": "1adb7f5d",
   "metadata": {},
   "outputs": [],
   "source": [
    "normalized_texts=[]\n",
    "for text in  expanded_tokenized_texts:\n",
    "    vectors=[]\n",
    "    for word in text:\n",
    "        vectors.append((numpy.array(word.vector)))\n",
    "    normalized_texts.append(numpy.array(vectors))"
   ]
  },
  {
   "cell_type": "code",
   "execution_count": 11,
   "id": "a58af67f",
   "metadata": {},
   "outputs": [],
   "source": [
    "RANDOM_SEED = 42\n",
    "np.random.seed(RANDOM_SEED)\n",
    "train_news, test_news, y_train, y_test =\\\n",
    "  train_test_split(\n",
    "    normalized_texts, \n",
    "    type_one_hot, \n",
    "    test_size=.1, \n",
    "    random_state=RANDOM_SEED\n",
    "  )"
   ]
  },
  {
   "cell_type": "code",
   "execution_count": 12,
   "id": "44de96ff",
   "metadata": {},
   "outputs": [],
   "source": [
    "train_news=np.array(train_news)\n",
    "test_news=np.array(test_news)\n",
    "y_train=np.array(y_train)\n",
    "y_test=np.array(y_test)"
   ]
  },
  {
   "cell_type": "code",
   "execution_count": 13,
   "id": "0b2b0b71",
   "metadata": {},
   "outputs": [
    {
     "name": "stdout",
     "output_type": "stream",
     "text": [
      "(256, 96)\n",
      "(1000, 256, 96)\n",
      "(9000, 2)\n",
      "(1000, 2)\n"
     ]
    }
   ],
   "source": [
    "print(train_news[1].shape)\n",
    "print(test_news.shape)\n",
    "print(y_train.shape)\n",
    "print(y_test.shape)"
   ]
  },
  {
   "cell_type": "code",
   "execution_count": 14,
   "id": "3005899c",
   "metadata": {},
   "outputs": [
    {
     "name": "stderr",
     "output_type": "stream",
     "text": [
      "2021-11-04 22:30:56.048070: I tensorflow/stream_executor/cuda/cuda_gpu_executor.cc:937] successful NUMA node read from SysFS had negative value (-1), but there must be at least one NUMA node, so returning NUMA node zero\n",
      "2021-11-04 22:30:56.060828: I tensorflow/stream_executor/cuda/cuda_gpu_executor.cc:937] successful NUMA node read from SysFS had negative value (-1), but there must be at least one NUMA node, so returning NUMA node zero\n",
      "2021-11-04 22:30:56.061589: I tensorflow/stream_executor/cuda/cuda_gpu_executor.cc:937] successful NUMA node read from SysFS had negative value (-1), but there must be at least one NUMA node, so returning NUMA node zero\n",
      "2021-11-04 22:30:56.062635: I tensorflow/core/platform/cpu_feature_guard.cc:142] This TensorFlow binary is optimized with oneAPI Deep Neural Network Library (oneDNN) to use the following CPU instructions in performance-critical operations:  AVX2 FMA\n",
      "To enable them in other operations, rebuild TensorFlow with the appropriate compiler flags.\n",
      "2021-11-04 22:30:56.063261: I tensorflow/stream_executor/cuda/cuda_gpu_executor.cc:937] successful NUMA node read from SysFS had negative value (-1), but there must be at least one NUMA node, so returning NUMA node zero\n",
      "2021-11-04 22:30:56.064190: I tensorflow/stream_executor/cuda/cuda_gpu_executor.cc:937] successful NUMA node read from SysFS had negative value (-1), but there must be at least one NUMA node, so returning NUMA node zero\n",
      "2021-11-04 22:30:56.064954: I tensorflow/stream_executor/cuda/cuda_gpu_executor.cc:937] successful NUMA node read from SysFS had negative value (-1), but there must be at least one NUMA node, so returning NUMA node zero\n",
      "2021-11-04 22:30:56.542640: I tensorflow/stream_executor/cuda/cuda_gpu_executor.cc:937] successful NUMA node read from SysFS had negative value (-1), but there must be at least one NUMA node, so returning NUMA node zero\n",
      "2021-11-04 22:30:56.542939: I tensorflow/stream_executor/cuda/cuda_gpu_executor.cc:937] successful NUMA node read from SysFS had negative value (-1), but there must be at least one NUMA node, so returning NUMA node zero\n",
      "2021-11-04 22:30:56.543178: I tensorflow/stream_executor/cuda/cuda_gpu_executor.cc:937] successful NUMA node read from SysFS had negative value (-1), but there must be at least one NUMA node, so returning NUMA node zero\n",
      "2021-11-04 22:30:56.543427: I tensorflow/core/common_runtime/gpu/gpu_device.cc:1510] Created device /job:localhost/replica:0/task:0/device:GPU:0 with 3372 MB memory:  -> device: 0, name: NVIDIA GeForce GTX 1050 Ti, pci bus id: 0000:01:00.0, compute capability: 6.1\n"
     ]
    }
   ],
   "source": [
    "model = keras.models.load_model('./Model/')"
   ]
  },
  {
   "cell_type": "code",
   "execution_count": 15,
   "id": "900e8e78",
   "metadata": {},
   "outputs": [
    {
     "name": "stderr",
     "output_type": "stream",
     "text": [
      "2021-11-04 22:30:56.990285: W tensorflow/core/framework/cpu_allocator_impl.cc:80] Allocation of 884736000 exceeds 10% of free system memory.\n",
      "2021-11-04 22:30:57.583710: W tensorflow/core/framework/cpu_allocator_impl.cc:80] Allocation of 884736000 exceeds 10% of free system memory.\n",
      "2021-11-04 22:30:58.058340: I tensorflow/compiler/mlir/mlir_graph_optimization_pass.cc:185] None of the MLIR Optimization Passes are enabled (registered 2)\n"
     ]
    },
    {
     "name": "stdout",
     "output_type": "stream",
     "text": [
      "282/282 [==============================] - 41s 4ms/step - loss: 0.4157 - accuracy: 0.8107\n"
     ]
    },
    {
     "data": {
      "text/plain": [
       "[0.4157377779483795, 0.8106666803359985]"
      ]
     },
     "execution_count": 15,
     "metadata": {},
     "output_type": "execute_result"
    }
   ],
   "source": [
    "model.evaluate(train_news, y_train)"
   ]
  },
  {
   "cell_type": "code",
   "execution_count": 16,
   "id": "ad42bbad",
   "metadata": {},
   "outputs": [
    {
     "name": "stdout",
     "output_type": "stream",
     "text": [
      "32/32 [==============================] - 0s 3ms/step - loss: 0.3931 - accuracy: 0.8310\n"
     ]
    },
    {
     "data": {
      "text/plain": [
       "[0.39309772849082947, 0.8309999704360962]"
      ]
     },
     "execution_count": 16,
     "metadata": {},
     "output_type": "execute_result"
    }
   ],
   "source": [
    "model.evaluate(test_news, y_test)"
   ]
  },
  {
   "cell_type": "code",
   "execution_count": 17,
   "id": "8d742adb",
   "metadata": {},
   "outputs": [
    {
     "name": "stderr",
     "output_type": "stream",
     "text": [
      "2021-11-04 22:51:51.697349: W tensorflow/python/util/util.cc:348] Sets are not currently considered sequences, but this may change in the future, so consider avoiding using them.\n"
     ]
    },
    {
     "name": "stdout",
     "output_type": "stream",
     "text": [
      "INFO:tensorflow:Assets written to: ./Model82/assets\n"
     ]
    }
   ],
   "source": [
    "model.save('./Model82/')"
   ]
  },
  {
   "cell_type": "code",
   "execution_count": null,
   "id": "b8300abb",
   "metadata": {},
   "outputs": [],
   "source": []
  }
 ],
 "metadata": {
  "kernelspec": {
   "display_name": "Python 3 (ipykernel)",
   "language": "python",
   "name": "python3"
  },
  "language_info": {
   "codemirror_mode": {
    "name": "ipython",
    "version": 3
   },
   "file_extension": ".py",
   "mimetype": "text/x-python",
   "name": "python",
   "nbconvert_exporter": "python",
   "pygments_lexer": "ipython3",
   "version": "3.9.7"
  }
 },
 "nbformat": 4,
 "nbformat_minor": 5
}
