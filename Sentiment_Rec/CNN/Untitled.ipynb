{
 "cells": [
  {
   "cell_type": "code",
   "execution_count": 1,
   "id": "143ddc31",
   "metadata": {},
   "outputs": [],
   "source": [
    "import pandas as pd\n",
    "from tqdm import tqdm\n",
    "from nltk.tokenize import RegexpTokenizer"
   ]
  },
  {
   "cell_type": "code",
   "execution_count": 22,
   "id": "6f8df7a6",
   "metadata": {},
   "outputs": [
    {
     "data": {
      "text/html": [
       "<div>\n",
       "<style scoped>\n",
       "    .dataframe tbody tr th:only-of-type {\n",
       "        vertical-align: middle;\n",
       "    }\n",
       "\n",
       "    .dataframe tbody tr th {\n",
       "        vertical-align: top;\n",
       "    }\n",
       "\n",
       "    .dataframe thead th {\n",
       "        text-align: right;\n",
       "    }\n",
       "</style>\n",
       "<table border=\"1\" class=\"dataframe\">\n",
       "  <thead>\n",
       "    <tr style=\"text-align: right;\">\n",
       "      <th></th>\n",
       "      <th>sentiment</th>\n",
       "      <th>text</th>\n",
       "    </tr>\n",
       "  </thead>\n",
       "  <tbody>\n",
       "    <tr>\n",
       "      <th>0</th>\n",
       "      <td>2</td>\n",
       "      <td>This sound track was beautiful! It paints the ...</td>\n",
       "    </tr>\n",
       "    <tr>\n",
       "      <th>1</th>\n",
       "      <td>2</td>\n",
       "      <td>I'm reading a lot of reviews saying that this ...</td>\n",
       "    </tr>\n",
       "    <tr>\n",
       "      <th>2</th>\n",
       "      <td>2</td>\n",
       "      <td>This soundtrack is my favorite music of all ti...</td>\n",
       "    </tr>\n",
       "    <tr>\n",
       "      <th>3</th>\n",
       "      <td>2</td>\n",
       "      <td>I truly like this soundtrack and I enjoy video...</td>\n",
       "    </tr>\n",
       "    <tr>\n",
       "      <th>4</th>\n",
       "      <td>2</td>\n",
       "      <td>If you've played the game, you know how divine...</td>\n",
       "    </tr>\n",
       "  </tbody>\n",
       "</table>\n",
       "</div>"
      ],
      "text/plain": [
       "   sentiment                                               text\n",
       "0          2  This sound track was beautiful! It paints the ...\n",
       "1          2  I'm reading a lot of reviews saying that this ...\n",
       "2          2  This soundtrack is my favorite music of all ti...\n",
       "3          2  I truly like this soundtrack and I enjoy video...\n",
       "4          2  If you've played the game, you know how divine..."
      ]
     },
     "execution_count": 22,
     "metadata": {},
     "output_type": "execute_result"
    }
   ],
   "source": [
    "dataframe = pd.read_csv('../Datasets/train.csv')\n",
    "dataframe.head()"
   ]
  },
  {
   "cell_type": "code",
   "execution_count": 23,
   "id": "9f5db479",
   "metadata": {},
   "outputs": [
    {
     "data": {
      "text/html": [
       "<div>\n",
       "<style scoped>\n",
       "    .dataframe tbody tr th:only-of-type {\n",
       "        vertical-align: middle;\n",
       "    }\n",
       "\n",
       "    .dataframe tbody tr th {\n",
       "        vertical-align: top;\n",
       "    }\n",
       "\n",
       "    .dataframe thead th {\n",
       "        text-align: right;\n",
       "    }\n",
       "</style>\n",
       "<table border=\"1\" class=\"dataframe\">\n",
       "  <thead>\n",
       "    <tr style=\"text-align: right;\">\n",
       "      <th></th>\n",
       "      <th>sentiment</th>\n",
       "      <th>text</th>\n",
       "    </tr>\n",
       "  </thead>\n",
       "  <tbody>\n",
       "    <tr>\n",
       "      <th>0</th>\n",
       "      <td>2</td>\n",
       "      <td>this sound track was beautiful! it paints the ...</td>\n",
       "    </tr>\n",
       "    <tr>\n",
       "      <th>1</th>\n",
       "      <td>2</td>\n",
       "      <td>i'm reading a lot of reviews saying that this ...</td>\n",
       "    </tr>\n",
       "    <tr>\n",
       "      <th>2</th>\n",
       "      <td>2</td>\n",
       "      <td>this soundtrack is my favorite music of all ti...</td>\n",
       "    </tr>\n",
       "    <tr>\n",
       "      <th>3</th>\n",
       "      <td>2</td>\n",
       "      <td>i truly like this soundtrack and i enjoy video...</td>\n",
       "    </tr>\n",
       "    <tr>\n",
       "      <th>4</th>\n",
       "      <td>2</td>\n",
       "      <td>if you've played the game, you know how divine...</td>\n",
       "    </tr>\n",
       "  </tbody>\n",
       "</table>\n",
       "</div>"
      ],
      "text/plain": [
       "   sentiment                                               text\n",
       "0          2  this sound track was beautiful! it paints the ...\n",
       "1          2  i'm reading a lot of reviews saying that this ...\n",
       "2          2  this soundtrack is my favorite music of all ti...\n",
       "3          2  i truly like this soundtrack and i enjoy video...\n",
       "4          2  if you've played the game, you know how divine..."
      ]
     },
     "execution_count": 23,
     "metadata": {},
     "output_type": "execute_result"
    }
   ],
   "source": [
    "dataframe.count()\n",
    "dataframe[\"text\"]=dataframe[\"text\"].str.lower()\n",
    "dataframe.head()"
   ]
  },
  {
   "cell_type": "code",
   "execution_count": 24,
   "id": "ac9bf727",
   "metadata": {},
   "outputs": [
    {
     "name": "stderr",
     "output_type": "stream",
     "text": [
      "100%|███████████████████████████████| 3200000/3200000 [15:18<00:00, 3484.32it/s]"
     ]
    },
    {
     "name": "stdout",
     "output_type": "stream",
     "text": [
      "871014\n"
     ]
    },
    {
     "name": "stderr",
     "output_type": "stream",
     "text": [
      "\n"
     ]
    }
   ],
   "source": [
    "tokenizer = RegexpTokenizer(r'\\w+')\n",
    "word_info = {} # { \"word\" : [id,  numar_de_aparitii_in_exemple_pozitive, numar_de_aparitii_in_exemple_negative]}\n",
    "\n",
    "for i, row in tqdm(dataframe.iterrows(), total=len(dataframe)):\n",
    "  review = row['text']\n",
    "  tokens = tokenizer.tokenize(review)\n",
    "\n",
    "  for tok in tokens:\n",
    "    if tok not in word_info:\n",
    "      word_info[tok] = [-1, 0, 0] # [id,  numar_de_aparitii_in_exemple_pozitive, numar_de_aparitii_in_exemple_negative]\n",
    "\n",
    "    if row['sentiment'] == 2:\n",
    "      word_info[tok][1] += 1\n",
    "    else:\n",
    "      word_info[tok][2] += 1\n",
    "\n",
    "print(len(word_info))"
   ]
  },
  {
   "cell_type": "code",
   "execution_count": 35,
   "id": "d23cfe86",
   "metadata": {},
   "outputs": [
    {
     "name": "stdout",
     "output_type": "stream",
     "text": [
      "9953\n"
     ]
    }
   ],
   "source": [
    "to_be_deleted = []\n",
    "\n",
    "for word in word_info:\n",
    "  pos_appearances = word_info[word][1]\n",
    "  neg_appearances = word_info[word][2]\n",
    "  total_appearances = pos_appearances + neg_appearances\n",
    "\n",
    "  if total_appearances < 1000: \n",
    "    to_be_deleted.append(word)\n",
    "\n",
    "for elem in to_be_deleted:\n",
    "  del word_info[elem]\n",
    "\n",
    "print(len(word_info))\n"
   ]
  },
  {
   "cell_type": "code",
   "execution_count": 36,
   "id": "aef611a5",
   "metadata": {},
   "outputs": [
    {
     "name": "stdout",
     "output_type": "stream",
     "text": [
      "9953\n"
     ]
    }
   ],
   "source": [
    "print(len(word_info))"
   ]
  },
  {
   "cell_type": "code",
   "execution_count": 37,
   "id": "b7ec003d",
   "metadata": {},
   "outputs": [],
   "source": [
    "def clean_df(a):\n",
    "    a_token=a.lower().split()\n",
    "    \n",
    "    str1=\"\"\n",
    "    for tk in a_token:\n",
    "        if tk not in word_info.keys():\n",
    "            continue\n",
    "        else:\n",
    "            str1 += tk+\" \"\n",
    "            \n",
    "    return str1"
   ]
  },
  {
   "cell_type": "code",
   "execution_count": 38,
   "id": "e37b2e00",
   "metadata": {},
   "outputs": [],
   "source": [
    "dataframe['text'] = dataframe['text'].apply(lambda x: clean_df(x))"
   ]
  },
  {
   "cell_type": "code",
   "execution_count": 39,
   "id": "16751bb2",
   "metadata": {},
   "outputs": [],
   "source": [
    "dataframe.head()\n",
    "dataframe.to_csv(\"../Datasets/train-1000.csv\")"
   ]
  },
  {
   "cell_type": "code",
   "execution_count": null,
   "id": "94cb6642",
   "metadata": {},
   "outputs": [],
   "source": []
  }
 ],
 "metadata": {
  "kernelspec": {
   "display_name": "Python 3 (ipykernel)",
   "language": "python",
   "name": "python3"
  },
  "language_info": {
   "codemirror_mode": {
    "name": "ipython",
    "version": 3
   },
   "file_extension": ".py",
   "mimetype": "text/x-python",
   "name": "python",
   "nbconvert_exporter": "python",
   "pygments_lexer": "ipython3",
   "version": "3.9.7"
  }
 },
 "nbformat": 4,
 "nbformat_minor": 5
}
