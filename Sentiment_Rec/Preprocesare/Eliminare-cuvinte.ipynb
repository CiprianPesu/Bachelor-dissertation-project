{
 "cells": [
  {
   "cell_type": "code",
   "execution_count": 1,
   "id": "143ddc31",
   "metadata": {},
   "outputs": [],
   "source": [
    "import pandas as pd\n",
    "from tqdm import tqdm\n",
    "from nltk.tokenize import RegexpTokenizer"
   ]
  },
  {
   "cell_type": "code",
   "execution_count": 14,
   "id": "6f8df7a6",
   "metadata": {},
   "outputs": [
    {
     "data": {
      "text/html": [
       "<div>\n",
       "<style scoped>\n",
       "    .dataframe tbody tr th:only-of-type {\n",
       "        vertical-align: middle;\n",
       "    }\n",
       "\n",
       "    .dataframe tbody tr th {\n",
       "        vertical-align: top;\n",
       "    }\n",
       "\n",
       "    .dataframe thead th {\n",
       "        text-align: right;\n",
       "    }\n",
       "</style>\n",
       "<table border=\"1\" class=\"dataframe\">\n",
       "  <thead>\n",
       "    <tr style=\"text-align: right;\">\n",
       "      <th></th>\n",
       "      <th>sentiment</th>\n",
       "      <th>text</th>\n",
       "    </tr>\n",
       "  </thead>\n",
       "  <tbody>\n",
       "    <tr>\n",
       "      <th>0</th>\n",
       "      <td>2</td>\n",
       "      <td>love pat one great voic gener listen cd year s...</td>\n",
       "    </tr>\n",
       "    <tr>\n",
       "      <th>1</th>\n",
       "      <td>2</td>\n",
       "      <td>despit fact play small portion game music hear...</td>\n",
       "    </tr>\n",
       "    <tr>\n",
       "      <th>2</th>\n",
       "      <td>0</td>\n",
       "      <td>bought charger jul 2003 work ok design nice co...</td>\n",
       "    </tr>\n",
       "    <tr>\n",
       "      <th>3</th>\n",
       "      <td>2</td>\n",
       "      <td>check maha energi websit powerex mhc204f charg...</td>\n",
       "    </tr>\n",
       "    <tr>\n",
       "      <th>4</th>\n",
       "      <td>2</td>\n",
       "      <td>review quit bit combo player hesit due unfavor...</td>\n",
       "    </tr>\n",
       "  </tbody>\n",
       "</table>\n",
       "</div>"
      ],
      "text/plain": [
       "   sentiment                                               text\n",
       "0          2  love pat one great voic gener listen cd year s...\n",
       "1          2  despit fact play small portion game music hear...\n",
       "2          0  bought charger jul 2003 work ok design nice co...\n",
       "3          2  check maha energi websit powerex mhc204f charg...\n",
       "4          2  review quit bit combo player hesit due unfavor..."
      ]
     },
     "execution_count": 14,
     "metadata": {},
     "output_type": "execute_result"
    }
   ],
   "source": [
    "dataframe = pd.read_csv('../Datasets/Stem/validity-punct-stop-stem.csv')\n",
    "dataframe.head()"
   ]
  },
  {
   "cell_type": "code",
   "execution_count": 15,
   "id": "1fa3bb95",
   "metadata": {},
   "outputs": [
    {
     "data": {
      "text/plain": [
       "sentiment    400000\n",
       "text         400000\n",
       "dtype: int64"
      ]
     },
     "execution_count": 15,
     "metadata": {},
     "output_type": "execute_result"
    }
   ],
   "source": [
    "dataframe=dataframe.dropna()\n",
    "dataframe.count()"
   ]
  },
  {
   "cell_type": "code",
   "execution_count": 16,
   "id": "9f5db479",
   "metadata": {},
   "outputs": [
    {
     "data": {
      "text/html": [
       "<div>\n",
       "<style scoped>\n",
       "    .dataframe tbody tr th:only-of-type {\n",
       "        vertical-align: middle;\n",
       "    }\n",
       "\n",
       "    .dataframe tbody tr th {\n",
       "        vertical-align: top;\n",
       "    }\n",
       "\n",
       "    .dataframe thead th {\n",
       "        text-align: right;\n",
       "    }\n",
       "</style>\n",
       "<table border=\"1\" class=\"dataframe\">\n",
       "  <thead>\n",
       "    <tr style=\"text-align: right;\">\n",
       "      <th></th>\n",
       "      <th>sentiment</th>\n",
       "      <th>text</th>\n",
       "    </tr>\n",
       "  </thead>\n",
       "  <tbody>\n",
       "    <tr>\n",
       "      <th>0</th>\n",
       "      <td>2</td>\n",
       "      <td>love pat one great voic gener listen cd year s...</td>\n",
       "    </tr>\n",
       "    <tr>\n",
       "      <th>1</th>\n",
       "      <td>2</td>\n",
       "      <td>despit fact play small portion game music hear...</td>\n",
       "    </tr>\n",
       "    <tr>\n",
       "      <th>2</th>\n",
       "      <td>0</td>\n",
       "      <td>bought charger jul 2003 work ok design nice co...</td>\n",
       "    </tr>\n",
       "    <tr>\n",
       "      <th>3</th>\n",
       "      <td>2</td>\n",
       "      <td>check maha energi websit powerex mhc204f charg...</td>\n",
       "    </tr>\n",
       "    <tr>\n",
       "      <th>4</th>\n",
       "      <td>2</td>\n",
       "      <td>review quit bit combo player hesit due unfavor...</td>\n",
       "    </tr>\n",
       "  </tbody>\n",
       "</table>\n",
       "</div>"
      ],
      "text/plain": [
       "   sentiment                                               text\n",
       "0          2  love pat one great voic gener listen cd year s...\n",
       "1          2  despit fact play small portion game music hear...\n",
       "2          0  bought charger jul 2003 work ok design nice co...\n",
       "3          2  check maha energi websit powerex mhc204f charg...\n",
       "4          2  review quit bit combo player hesit due unfavor..."
      ]
     },
     "execution_count": 16,
     "metadata": {},
     "output_type": "execute_result"
    }
   ],
   "source": [
    "dataframe[\"text\"]=dataframe[\"text\"].str.lower()\n",
    "dataframe.head()"
   ]
  },
  {
   "cell_type": "code",
   "execution_count": 17,
   "id": "b8bdaf5a",
   "metadata": {},
   "outputs": [
    {
     "data": {
      "text/plain": [
       "sentiment    400000\n",
       "text         400000\n",
       "dtype: int64"
      ]
     },
     "execution_count": 17,
     "metadata": {},
     "output_type": "execute_result"
    }
   ],
   "source": [
    "dataframe.count()"
   ]
  },
  {
   "cell_type": "code",
   "execution_count": 6,
   "id": "ac9bf727",
   "metadata": {},
   "outputs": [
    {
     "name": "stderr",
     "output_type": "stream",
     "text": [
      "100%|███████████████████████████████| 3199993/3199993 [09:08<00:00, 5830.19it/s]"
     ]
    },
    {
     "name": "stdout",
     "output_type": "stream",
     "text": [
      "1806322\n"
     ]
    },
    {
     "name": "stderr",
     "output_type": "stream",
     "text": [
      "\n"
     ]
    }
   ],
   "source": [
    "tokenizer = RegexpTokenizer(r'\\w+')\n",
    "word_info = {} # { \"word\" : [id,  numar_de_aparitii_in_exemple_pozitive, numar_de_aparitii_in_exemple_negative]}\n",
    "\n",
    "for i, row in tqdm(dataframe.iterrows(), total=len(dataframe)):\n",
    "  review = row['text']\n",
    "  tokens = tokenizer.tokenize(review)\n",
    "\n",
    "  for tok in tokens:\n",
    "    if tok not in word_info:\n",
    "      word_info[tok] = [-1, 0, 0] # [id,  numar_de_aparitii_in_exemple_pozitive, numar_de_aparitii_in_exemple_negative]\n",
    "\n",
    "    if row['sentiment'] == 2:\n",
    "      word_info[tok][1] += 1\n",
    "    else:\n",
    "      word_info[tok][2] += 1\n",
    "\n",
    "print(len(word_info))"
   ]
  },
  {
   "cell_type": "code",
   "execution_count": 7,
   "id": "d23cfe86",
   "metadata": {},
   "outputs": [
    {
     "name": "stdout",
     "output_type": "stream",
     "text": [
      "7215\n"
     ]
    }
   ],
   "source": [
    "to_be_deleted = []\n",
    "\n",
    "for word in word_info:\n",
    "  pos_appearances = word_info[word][1]\n",
    "  neg_appearances = word_info[word][2]\n",
    "  total_appearances = pos_appearances + neg_appearances\n",
    "\n",
    "  if total_appearances < 1000: \n",
    "    to_be_deleted.append(word)\n",
    "\n",
    "for elem in to_be_deleted:\n",
    "  del word_info[elem]\n",
    "\n",
    "print(len(word_info))\n"
   ]
  },
  {
   "cell_type": "code",
   "execution_count": 8,
   "id": "aef611a5",
   "metadata": {},
   "outputs": [
    {
     "name": "stdout",
     "output_type": "stream",
     "text": [
      "7215\n"
     ]
    }
   ],
   "source": [
    "print(len(word_info))"
   ]
  },
  {
   "cell_type": "code",
   "execution_count": 9,
   "id": "b7ec003d",
   "metadata": {},
   "outputs": [],
   "source": [
    "def clean_df(a):\n",
    "    a_token=a.lower().split()\n",
    "    \n",
    "    str1=\"\"\n",
    "    for tk in a_token:\n",
    "        if tk not in word_info.keys():\n",
    "            continue\n",
    "        else:\n",
    "            str1 += tk+\" \"\n",
    "            \n",
    "    return str1"
   ]
  },
  {
   "cell_type": "code",
   "execution_count": 18,
   "id": "e37b2e00",
   "metadata": {},
   "outputs": [],
   "source": [
    "dataframe['text'] = dataframe['text'].apply(lambda x: clean_df(x))"
   ]
  },
  {
   "cell_type": "code",
   "execution_count": 19,
   "id": "458ee3de",
   "metadata": {},
   "outputs": [
    {
     "data": {
      "text/plain": [
       "sentiment    400000\n",
       "text         400000\n",
       "dtype: int64"
      ]
     },
     "execution_count": 19,
     "metadata": {},
     "output_type": "execute_result"
    }
   ],
   "source": [
    "dataframe=dataframe.dropna()\n",
    "dataframe.count()"
   ]
  },
  {
   "cell_type": "code",
   "execution_count": 20,
   "id": "d07dd341",
   "metadata": {},
   "outputs": [
    {
     "data": {
      "text/plain": [
       "sentiment    400000\n",
       "text         400000\n",
       "dtype: int64"
      ]
     },
     "execution_count": 20,
     "metadata": {},
     "output_type": "execute_result"
    }
   ],
   "source": [
    "dataframe.count()"
   ]
  },
  {
   "cell_type": "code",
   "execution_count": 21,
   "id": "16751bb2",
   "metadata": {},
   "outputs": [],
   "source": [
    "dataframe.head()\n",
    "dataframe.to_csv(\"../Datasets/Stem-Cuvinte-Eliminate/test-punct-stop-stem-1000.csv\",index=False)"
   ]
  },
  {
   "cell_type": "code",
   "execution_count": null,
   "id": "90850c92",
   "metadata": {},
   "outputs": [],
   "source": [
    "dataframe.head()"
   ]
  },
  {
   "cell_type": "code",
   "execution_count": null,
   "id": "5856b9a3",
   "metadata": {},
   "outputs": [],
   "source": [
    "print(word_info.keys())"
   ]
  },
  {
   "cell_type": "code",
   "execution_count": null,
   "id": "7f8717b9",
   "metadata": {},
   "outputs": [],
   "source": [
    "import pickle "
   ]
  },
  {
   "cell_type": "code",
   "execution_count": null,
   "id": "75134e7b",
   "metadata": {},
   "outputs": [],
   "source": [
    "with open(\"../Datasets/Stem-Cuvinte-Eliminate/cuvinte.pkl\", \"wb\") as pkl_handle:\n",
    "\tpickle.dump(word_info, pkl_handle)"
   ]
  },
  {
   "cell_type": "code",
   "execution_count": null,
   "id": "c97aca6d",
   "metadata": {},
   "outputs": [],
   "source": [
    "with open(\"../Datasets/Stem-Cuvinte-Eliminate/cuvinte.pkl\", \"rb\") as pkl_handle:\n",
    "\toutput = pickle.load(pkl_handle)\n",
    "    \n"
   ]
  },
  {
   "cell_type": "code",
   "execution_count": null,
   "id": "76c52b09",
   "metadata": {},
   "outputs": [],
   "source": [
    "print(len(output.keys()))"
   ]
  },
  {
   "cell_type": "code",
   "execution_count": null,
   "id": "b04640c5",
   "metadata": {},
   "outputs": [],
   "source": []
  }
 ],
 "metadata": {
  "kernelspec": {
   "display_name": "Python 3 (ipykernel)",
   "language": "python",
   "name": "python3"
  },
  "language_info": {
   "codemirror_mode": {
    "name": "ipython",
    "version": 3
   },
   "file_extension": ".py",
   "mimetype": "text/x-python",
   "name": "python",
   "nbconvert_exporter": "python",
   "pygments_lexer": "ipython3",
   "version": "3.9.7"
  }
 },
 "nbformat": 4,
 "nbformat_minor": 5
}
