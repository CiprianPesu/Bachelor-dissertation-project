{
 "cells": [
  {
   "cell_type": "code",
   "execution_count": 1,
   "id": "edc88acb",
   "metadata": {},
   "outputs": [],
   "source": [
    "import numpy as np\n",
    "import tensorflow as tf\n",
    "from tensorflow import keras\n",
    "import pandas as pd\n",
    "import seaborn as sns\n",
    "from pylab import rcParams\n",
    "from tqdm import tqdm\n",
    "import matplotlib.pyplot as plt\n",
    "from matplotlib import rc\n",
    "from pandas.plotting import register_matplotlib_converters\n",
    "from sklearn.model_selection import train_test_split\n",
    "import tensorflow_hub as hub\n",
    "from wordcloud import WordCloud, STOPWORDS, ImageColorGenerator\n",
    "import tensorflow_text\n",
    "import spacy\n",
    "import numpy"
   ]
  },
  {
   "cell_type": "code",
   "execution_count": 2,
   "id": "92cab10a",
   "metadata": {},
   "outputs": [],
   "source": [
    "df = pd.read_csv(\"../Datasets/Stem-Cuvinte-Eliminate/train-punct-stop-stem-1000.csv\")\n",
    "df=df.dropna()\n",
    "df=df.sample(n=1500000)\n",
    "#df=df.drop([\"news_title\",\"url\",\"reddit_title\"],axis=1)\n",
    "df_train=df"
   ]
  },
  {
   "cell_type": "code",
   "execution_count": 3,
   "id": "4d800952",
   "metadata": {},
   "outputs": [
    {
     "name": "stdout",
     "output_type": "stream",
     "text": [
      "        sentiment                                               text\n",
      "746598          1  International, contemporary history at its bes...\n",
      "793704          0  I cannot believe the other two reviews for thi...\n",
      "804820          1  Maira Kalman does a wonderful job of capturing...\n",
      "740394          1  Beetlejuice (20th Anniversary Deluxe Edition)I...\n",
      "168769          1  What did I like about this book? Everything.Th...\n",
      "...           ...                                                ...\n",
      "48155           1  We got this gift for my baby shower and put it...\n",
      "900791          1  My mom had been looking for this cd but was un...\n",
      "388923          0  OK for general dust collection but noisy. Clog...\n",
      "80405           0  The first time I tried to use this beautiful t...\n",
      "111485          0  I have read many Binchy novels and have always...\n",
      "\n",
      "[30000 rows x 2 columns]\n"
     ]
    }
   ],
   "source": [
    "print(df)"
   ]
  },
  {
   "cell_type": "code",
   "execution_count": 4,
   "id": "ffc9219a",
   "metadata": {},
   "outputs": [],
   "source": [
    "X_train = df_train['text']"
   ]
  },
  {
   "cell_type": "code",
   "execution_count": 5,
   "id": "3f5f34d4",
   "metadata": {},
   "outputs": [],
   "source": [
    "y_train = df_train['sentiment'].values"
   ]
  },
  {
   "cell_type": "code",
   "execution_count": 6,
   "id": "73b7405c",
   "metadata": {},
   "outputs": [
    {
     "name": "stdout",
     "output_type": "stream",
     "text": [
      "162\n"
     ]
    }
   ],
   "source": [
    "train_labels=[]\n",
    "for i in range(0,len(y_train)):\n",
    "    train_labels.append([0,0])"
   ]
  },
  {
   "cell_type": "code",
   "execution_count": 7,
   "id": "aad7cf7a",
   "metadata": {},
   "outputs": [],
   "source": [
    "import pickle\n",
    "with open('tokenizer.pickle', 'rb') as handle:\n",
    "    tokenizer = pickle.load(handle)"
   ]
  },
  {
   "cell_type": "code",
   "execution_count": 8,
   "id": "a74b63b6",
   "metadata": {},
   "outputs": [],
   "source": [
    "for i in range(0,len(y_train)):\n",
    "    if y_train[i] == 0:\n",
    "        train_labels[i][0]=1\n",
    "    else:\n",
    "        train_labels[i][1]=1"
   ]
  },
  {
   "cell_type": "code",
   "execution_count": 9,
   "id": "e494deeb",
   "metadata": {},
   "outputs": [],
   "source": [
    "X_train = tokenizer.texts_to_sequences(X_train)\n",
    "X_train = pad_sequences(X_train, maxlen = 128)\n",
    "  )"
   ]
  },
  {
   "cell_type": "code",
   "execution_count": 10,
   "id": "06130f0d",
   "metadata": {},
   "outputs": [],
   "source": [
    "train_news=np.array(train_news)\n",
    "test_news=np.array(test_news)\n",
    "y_train=np.array(y_train)\n",
    "y_test=np.array(y_test)\n"
   ]
  },
  {
   "cell_type": "code",
   "execution_count": 11,
   "id": "485edaf3",
   "metadata": {},
   "outputs": [
    {
     "name": "stdout",
     "output_type": "stream",
     "text": [
      "(27000, 256, 96)\n"
     ]
    }
   ],
   "source": [
    "print(train_news.shape)"
   ]
  },
  {
   "cell_type": "code",
   "execution_count": 12,
   "id": "dc24a562",
   "metadata": {},
   "outputs": [
    {
     "name": "stderr",
     "output_type": "stream",
     "text": [
      "2021-11-04 21:37:43.691640: I tensorflow/stream_executor/cuda/cuda_gpu_executor.cc:937] successful NUMA node read from SysFS had negative value (-1), but there must be at least one NUMA node, so returning NUMA node zero\n",
      "2021-11-04 21:37:44.560653: I tensorflow/stream_executor/cuda/cuda_gpu_executor.cc:937] successful NUMA node read from SysFS had negative value (-1), but there must be at least one NUMA node, so returning NUMA node zero\n",
      "2021-11-04 21:37:44.562094: I tensorflow/stream_executor/cuda/cuda_gpu_executor.cc:937] successful NUMA node read from SysFS had negative value (-1), but there must be at least one NUMA node, so returning NUMA node zero\n",
      "2021-11-04 21:37:44.565505: I tensorflow/core/platform/cpu_feature_guard.cc:142] This TensorFlow binary is optimized with oneAPI Deep Neural Network Library (oneDNN) to use the following CPU instructions in performance-critical operations:  AVX2 FMA\n",
      "To enable them in other operations, rebuild TensorFlow with the appropriate compiler flags.\n",
      "2021-11-04 21:37:44.575679: I tensorflow/stream_executor/cuda/cuda_gpu_executor.cc:937] successful NUMA node read from SysFS had negative value (-1), but there must be at least one NUMA node, so returning NUMA node zero\n",
      "2021-11-04 21:37:44.577422: I tensorflow/stream_executor/cuda/cuda_gpu_executor.cc:937] successful NUMA node read from SysFS had negative value (-1), but there must be at least one NUMA node, so returning NUMA node zero\n",
      "2021-11-04 21:37:44.578982: I tensorflow/stream_executor/cuda/cuda_gpu_executor.cc:937] successful NUMA node read from SysFS had negative value (-1), but there must be at least one NUMA node, so returning NUMA node zero\n",
      "2021-11-04 21:37:50.232271: I tensorflow/stream_executor/cuda/cuda_gpu_executor.cc:937] successful NUMA node read from SysFS had negative value (-1), but there must be at least one NUMA node, so returning NUMA node zero\n",
      "2021-11-04 21:37:50.232710: I tensorflow/stream_executor/cuda/cuda_gpu_executor.cc:937] successful NUMA node read from SysFS had negative value (-1), but there must be at least one NUMA node, so returning NUMA node zero\n",
      "2021-11-04 21:37:50.233109: I tensorflow/stream_executor/cuda/cuda_gpu_executor.cc:937] successful NUMA node read from SysFS had negative value (-1), but there must be at least one NUMA node, so returning NUMA node zero\n",
      "2021-11-04 21:37:50.233394: I tensorflow/core/common_runtime/gpu/gpu_device.cc:1510] Created device /job:localhost/replica:0/task:0/device:GPU:0 with 3372 MB memory:  -> device: 0, name: NVIDIA GeForce GTX 1050 Ti, pci bus id: 0000:01:00.0, compute capability: 6.1\n"
     ]
    }
   ],
   "source": [
    "model = keras.models.load_model('./Model/')"
   ]
  },
  {
   "cell_type": "code",
   "execution_count": 13,
   "id": "996ba225",
   "metadata": {},
   "outputs": [
    {
     "name": "stdout",
     "output_type": "stream",
     "text": [
      "Model: \"sequential_1\"\n",
      "_________________________________________________________________\n",
      "Layer (type)                 Output Shape              Param #   \n",
      "=================================================================\n",
      "dense_1 (Dense)              (None, 256, 96)           9312      \n",
      "_________________________________________________________________\n",
      "dropout_1 (Dropout)          (None, 256, 96)           0         \n",
      "_________________________________________________________________\n",
      "global_max_pooling1d (Global (None, 96)                0         \n",
      "_________________________________________________________________\n",
      "dense_2 (Dense)              (None, 32)                3104      \n",
      "_________________________________________________________________\n",
      "dropout_2 (Dropout)          (None, 32)                0         \n",
      "_________________________________________________________________\n",
      "flatten (Flatten)            (None, 32)                0         \n",
      "_________________________________________________________________\n",
      "dense_3 (Dense)              (None, 2)                 66        \n",
      "=================================================================\n",
      "Total params: 12,482\n",
      "Trainable params: 12,482\n",
      "Non-trainable params: 0\n",
      "_________________________________________________________________\n"
     ]
    }
   ],
   "source": [
    "model.summary()"
   ]
  },
  {
   "cell_type": "code",
   "execution_count": 14,
   "id": "4721ddb3",
   "metadata": {},
   "outputs": [
    {
     "name": "stderr",
     "output_type": "stream",
     "text": [
      "2021-11-04 21:37:52.447628: W tensorflow/core/framework/cpu_allocator_impl.cc:80] Allocation of 2388787200 exceeds 10% of free system memory.\n",
      "2021-11-04 21:39:51.107372: W tensorflow/core/framework/cpu_allocator_impl.cc:80] Allocation of 2388787200 exceeds 10% of free system memory.\n",
      "2021-11-04 21:39:54.489018: I tensorflow/compiler/mlir/mlir_graph_optimization_pass.cc:185] None of the MLIR Optimization Passes are enabled (registered 2)\n"
     ]
    },
    {
     "name": "stdout",
     "output_type": "stream",
     "text": [
      "Epoch 1/20\n",
      "757/760 [============================>.] - ETA: 0s - loss: 0.4893 - accuracy: 0.7649"
     ]
    },
    {
     "name": "stderr",
     "output_type": "stream",
     "text": [
      "2021-11-04 21:40:39.860541: W tensorflow/core/framework/cpu_allocator_impl.cc:80] Allocation of 265420800 exceeds 10% of free system memory.\n",
      "2021-11-04 21:40:40.074691: W tensorflow/core/framework/cpu_allocator_impl.cc:80] Allocation of 265420800 exceeds 10% of free system memory.\n"
     ]
    },
    {
     "name": "stdout",
     "output_type": "stream",
     "text": [
      "760/760 [==============================] - 43s 6ms/step - loss: 0.4892 - accuracy: 0.7650 - val_loss: 0.4371 - val_accuracy: 0.8063\n",
      "Epoch 2/20\n",
      "760/760 [==============================] - 4s 5ms/step - loss: 0.4801 - accuracy: 0.7768 - val_loss: 0.4471 - val_accuracy: 0.8122\n",
      "Epoch 3/20\n",
      "760/760 [==============================] - 4s 5ms/step - loss: 0.4696 - accuracy: 0.7809 - val_loss: 0.4262 - val_accuracy: 0.8130\n",
      "Epoch 4/20\n",
      "760/760 [==============================] - 4s 5ms/step - loss: 0.4679 - accuracy: 0.7812 - val_loss: 0.4334 - val_accuracy: 0.7922\n",
      "Epoch 5/20\n",
      "760/760 [==============================] - 4s 5ms/step - loss: 0.4630 - accuracy: 0.7845 - val_loss: 0.4430 - val_accuracy: 0.7819\n",
      "Epoch 6/20\n",
      "760/760 [==============================] - 4s 5ms/step - loss: 0.4562 - accuracy: 0.7897 - val_loss: 0.4342 - val_accuracy: 0.7881\n",
      "Epoch 7/20\n",
      "760/760 [==============================] - 4s 5ms/step - loss: 0.4529 - accuracy: 0.7899 - val_loss: 0.4201 - val_accuracy: 0.8174\n",
      "Epoch 8/20\n",
      "760/760 [==============================] - 4s 5ms/step - loss: 0.4460 - accuracy: 0.7984 - val_loss: 0.4273 - val_accuracy: 0.8193\n",
      "Epoch 9/20\n",
      "760/760 [==============================] - 4s 5ms/step - loss: 0.4452 - accuracy: 0.7959 - val_loss: 0.4224 - val_accuracy: 0.8215\n",
      "Epoch 10/20\n",
      "760/760 [==============================] - 4s 5ms/step - loss: 0.4470 - accuracy: 0.7934 - val_loss: 0.4368 - val_accuracy: 0.8144\n",
      "Epoch 11/20\n",
      "760/760 [==============================] - 4s 5ms/step - loss: 0.4429 - accuracy: 0.7997 - val_loss: 0.4282 - val_accuracy: 0.8211\n",
      "Epoch 12/20\n",
      "760/760 [==============================] - 4s 5ms/step - loss: 0.4417 - accuracy: 0.7978 - val_loss: 0.4336 - val_accuracy: 0.8004\n",
      "Epoch 13/20\n",
      "760/760 [==============================] - 4s 5ms/step - loss: 0.4404 - accuracy: 0.7977 - val_loss: 0.4393 - val_accuracy: 0.8100\n",
      "Epoch 14/20\n",
      "760/760 [==============================] - 4s 5ms/step - loss: 0.4351 - accuracy: 0.8063 - val_loss: 0.4164 - val_accuracy: 0.8026\n",
      "Epoch 15/20\n",
      "760/760 [==============================] - 4s 5ms/step - loss: 0.4369 - accuracy: 0.7988 - val_loss: 0.4113 - val_accuracy: 0.8156\n",
      "Epoch 16/20\n",
      "760/760 [==============================] - 4s 5ms/step - loss: 0.4287 - accuracy: 0.8048 - val_loss: 0.4039 - val_accuracy: 0.8130\n",
      "Epoch 17/20\n",
      "760/760 [==============================] - 4s 5ms/step - loss: 0.4334 - accuracy: 0.8030 - val_loss: 0.4209 - val_accuracy: 0.8085\n",
      "Epoch 18/20\n",
      "760/760 [==============================] - 4s 5ms/step - loss: 0.4231 - accuracy: 0.8091 - val_loss: 0.4049 - val_accuracy: 0.8144\n",
      "Epoch 19/20\n",
      "760/760 [==============================] - 4s 5ms/step - loss: 0.4246 - accuracy: 0.8110 - val_loss: 0.4125 - val_accuracy: 0.8167\n",
      "Epoch 20/20\n",
      "760/760 [==============================] - 4s 5ms/step - loss: 0.4277 - accuracy: 0.8050 - val_loss: 0.4138 - val_accuracy: 0.8144\n"
     ]
    }
   ],
   "source": [
    "history = model.fit(\n",
    "    train_news, y_train, \n",
    "    epochs=20, \n",
    "    batch_size=32, \n",
    "    validation_split=0.1,\n",
    "    verbose=1, \n",
    "    shuffle=True\n",
    ")\n"
   ]
  },
  {
   "cell_type": "code",
   "execution_count": 20,
   "id": "ac8db82f",
   "metadata": {},
   "outputs": [
    {
     "data": {
      "image/png": "[encoded data removed]",
      "text/plain": [
       "<Figure size 432x288 with 1 Axes>"
      ]
     },
     "metadata": {
      "needs_background": "light"
     },
     "output_type": "display_data"
    }
   ],
   "source": [
    "plt.plot(history.history['loss'], label='train loss'),\n",
    "plt.plot(history.history['val_loss'], label='val loss'),\n",
    "plt.xlabel(\"epoch\")\n",
    "plt.ylabel(\"Cross-entropy loss\"),\n",
    "plt.legend();"
   ]
  },
  {
   "cell_type": "code",
   "execution_count": 16,
   "id": "bf396288",
   "metadata": {},
   "outputs": [
    {
     "data": {
      "image/png": "[encoded data removed]",
      "text/plain": [
       "<Figure size 432x288 with 1 Axes>"
      ]
     },
     "metadata": {
      "needs_background": "light"
     },
     "output_type": "display_data"
    }
   ],
   "source": [
    "    plt.plot(history.history['accuracy'], label='train accuracy'),\n",
    "    plt.plot(history.history['val_accuracy'], label='val accuracy'),\n",
    "    plt.xlabel(\"epoch\"),\n",
    "    plt.ylabel(\"accuracy\"),\n",
    "    plt.legend();"
   ]
  },
  {
   "cell_type": "code",
   "execution_count": 17,
   "id": "9fa9aad5",
   "metadata": {},
   "outputs": [
    {
     "name": "stderr",
     "output_type": "stream",
     "text": [
      "2021-11-04 21:41:54.829544: W tensorflow/core/framework/cpu_allocator_impl.cc:80] Allocation of 294912000 exceeds 10% of free system memory.\n"
     ]
    },
    {
     "name": "stdout",
     "output_type": "stream",
     "text": [
      "94/94 [==============================] - 0s 4ms/step - loss: 0.4177 - accuracy: 0.8137\n"
     ]
    },
    {
     "data": {
      "text/plain": [
       "[0.4177146852016449, 0.8136666417121887]"
      ]
     },
     "execution_count": 17,
     "metadata": {},
     "output_type": "execute_result"
    }
   ],
   "source": [
    "model.evaluate(test_news, y_test)"
   ]
  },
  {
   "cell_type": "code",
   "execution_count": 18,
   "id": "e56ed96a",
   "metadata": {},
   "outputs": [
    {
     "name": "stderr",
     "output_type": "stream",
     "text": [
      "2021-11-04 21:41:58.272672: W tensorflow/python/util/util.cc:348] Sets are not currently considered sequences, but this may change in the future, so consider avoiding using them.\n"
     ]
    },
    {
     "name": "stdout",
     "output_type": "stream",
     "text": [
      "INFO:tensorflow:Assets written to: ./Model/assets\n"
     ]
    }
   ],
   "source": [
    "model.save('./Model/')"
   ]
  },
  {
   "cell_type": "code",
   "execution_count": null,
   "id": "3460e887",
   "metadata": {},
   "outputs": [],
   "source": []
  }
 ],
 "metadata": {
  "kernelspec": {
   "display_name": "Python 3 (ipykernel)",
   "language": "python",
   "name": "python3"
  },
  "language_info": {
   "codemirror_mode": {
    "name": "ipython",
    "version": 3
   },
   "file_extension": ".py",
   "mimetype": "text/x-python",
   "name": "python",
   "nbconvert_exporter": "python",
   "pygments_lexer": "ipython3",
   "version": "3.9.7"
  }
 },
 "nbformat": 4,
 "nbformat_minor": 5
}
